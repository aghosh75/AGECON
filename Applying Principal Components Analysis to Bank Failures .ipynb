{
 "cells": [
  {
   "cell_type": "markdown",
   "metadata": {},
   "source": [
    "## We are going to use Principal Components Analysis (PCA) to examine bank failures in any metropolitan statistical area (MSA) in the US. If there is a bank failure episode in any year then that observation is coded as 1 and zero otherwise.\n",
    "## There are 11 features that could have mutlicollinearity which would lead to overfitting. So, PCA is relevant here. "
   ]
  },
  {
   "cell_type": "code",
   "execution_count": 1,
   "metadata": {},
   "outputs": [],
   "source": [
    "# We first import the following packages\n",
    "import pandas as pd\n",
    "import sklearn.model_selection as ms\n",
    "from sklearn import linear_model\n",
    "from sklearn import preprocessing\n",
    "import sklearn.metrics as sklm\n",
    "import sklearn.decomposition as skde\n",
    "import numpy as np\n",
    "import numpy.random as nr\n",
    "import matplotlib.pyplot as plt\n",
    "import math\n",
    "\n",
    "%matplotlib inline"
   ]
  },
  {
   "cell_type": "markdown",
   "metadata": {},
   "source": [
    "## The dataset spans more than 400 MSAs in the US from 1994-2014. There are 11 independent variables or features. 9 of them are banks' balacnce-sheet based variables like banks' capitalization, loans-to-assets, overhead costs, profitability, liquidity, credit risk, diversification and loan performance. The remaining two features are MSA-level economic conditions like personal income and unemployment rate."
   ]
  },
  {
   "cell_type": "code",
   "execution_count": 2,
   "metadata": {},
   "outputs": [
    {
     "name": "stdout",
     "output_type": "stream",
     "text": [
      "(9096, 11)\n",
      "['failure', 'tier1capital_wt', 'loan_asset_wt', 'oca_wt', 'roa_wt', 'liquidity_wt', 'creditrisk_wt', 'diversification_wt', 'chargeoff_rate_wt', 'income_msa', 'ur']\n"
     ]
    }
   ],
   "source": [
    "#Importing the bank failure dataset \n",
    "data = pd.read_csv('BankFailures.csv')\n",
    "data.head()\n",
    "data = data.dropna()\n",
    "print(data.shape)\n",
    "print(list(data.columns)) "
   ]
  },
  {
   "cell_type": "markdown",
   "metadata": {},
   "source": [
    "## We first show the pairwise correlations among all variables. "
   ]
  },
  {
   "cell_type": "code",
   "execution_count": 3,
   "metadata": {},
   "outputs": [
    {
     "data": {
      "text/html": [
       "<div>\n",
       "<style scoped>\n",
       "    .dataframe tbody tr th:only-of-type {\n",
       "        vertical-align: middle;\n",
       "    }\n",
       "\n",
       "    .dataframe tbody tr th {\n",
       "        vertical-align: top;\n",
       "    }\n",
       "\n",
       "    .dataframe thead th {\n",
       "        text-align: right;\n",
       "    }\n",
       "</style>\n",
       "<table border=\"1\" class=\"dataframe\">\n",
       "  <thead>\n",
       "    <tr style=\"text-align: right;\">\n",
       "      <th></th>\n",
       "      <th>failure</th>\n",
       "      <th>tier1capital_wt</th>\n",
       "      <th>loan_asset_wt</th>\n",
       "      <th>oca_wt</th>\n",
       "      <th>roa_wt</th>\n",
       "      <th>liquidity_wt</th>\n",
       "      <th>creditrisk_wt</th>\n",
       "      <th>diversification_wt</th>\n",
       "      <th>chargeoff_rate_wt</th>\n",
       "      <th>income_msa</th>\n",
       "      <th>ur</th>\n",
       "    </tr>\n",
       "  </thead>\n",
       "  <tbody>\n",
       "    <tr>\n",
       "      <th>failure</th>\n",
       "      <td>1.000000</td>\n",
       "      <td>-0.014277</td>\n",
       "      <td>-0.041015</td>\n",
       "      <td>-0.016961</td>\n",
       "      <td>-0.182427</td>\n",
       "      <td>-0.035320</td>\n",
       "      <td>0.384379</td>\n",
       "      <td>0.100639</td>\n",
       "      <td>0.395274</td>\n",
       "      <td>0.212615</td>\n",
       "      <td>0.224509</td>\n",
       "    </tr>\n",
       "    <tr>\n",
       "      <th>tier1capital_wt</th>\n",
       "      <td>-0.014277</td>\n",
       "      <td>1.000000</td>\n",
       "      <td>-0.073789</td>\n",
       "      <td>-0.043558</td>\n",
       "      <td>0.054637</td>\n",
       "      <td>0.243700</td>\n",
       "      <td>-0.068351</td>\n",
       "      <td>-0.126545</td>\n",
       "      <td>-0.019802</td>\n",
       "      <td>-0.029512</td>\n",
       "      <td>0.020182</td>\n",
       "    </tr>\n",
       "    <tr>\n",
       "      <th>loan_asset_wt</th>\n",
       "      <td>-0.041015</td>\n",
       "      <td>-0.073789</td>\n",
       "      <td>1.000000</td>\n",
       "      <td>0.891538</td>\n",
       "      <td>0.791704</td>\n",
       "      <td>0.628456</td>\n",
       "      <td>0.007890</td>\n",
       "      <td>-0.009312</td>\n",
       "      <td>-0.002508</td>\n",
       "      <td>-0.048223</td>\n",
       "      <td>-0.055500</td>\n",
       "    </tr>\n",
       "    <tr>\n",
       "      <th>oca_wt</th>\n",
       "      <td>-0.016961</td>\n",
       "      <td>-0.043558</td>\n",
       "      <td>0.891538</td>\n",
       "      <td>1.000000</td>\n",
       "      <td>0.766291</td>\n",
       "      <td>0.619759</td>\n",
       "      <td>0.125408</td>\n",
       "      <td>0.248102</td>\n",
       "      <td>0.138619</td>\n",
       "      <td>-0.020949</td>\n",
       "      <td>-0.021556</td>\n",
       "    </tr>\n",
       "    <tr>\n",
       "      <th>roa_wt</th>\n",
       "      <td>-0.182427</td>\n",
       "      <td>0.054637</td>\n",
       "      <td>0.791704</td>\n",
       "      <td>0.766291</td>\n",
       "      <td>1.000000</td>\n",
       "      <td>0.604098</td>\n",
       "      <td>-0.300529</td>\n",
       "      <td>0.102660</td>\n",
       "      <td>-0.244524</td>\n",
       "      <td>-0.024215</td>\n",
       "      <td>-0.207244</td>\n",
       "    </tr>\n",
       "    <tr>\n",
       "      <th>liquidity_wt</th>\n",
       "      <td>-0.035320</td>\n",
       "      <td>0.243700</td>\n",
       "      <td>0.628456</td>\n",
       "      <td>0.619759</td>\n",
       "      <td>0.604098</td>\n",
       "      <td>1.000000</td>\n",
       "      <td>-0.146435</td>\n",
       "      <td>-0.098938</td>\n",
       "      <td>-0.110061</td>\n",
       "      <td>0.022970</td>\n",
       "      <td>0.011591</td>\n",
       "    </tr>\n",
       "    <tr>\n",
       "      <th>creditrisk_wt</th>\n",
       "      <td>0.384379</td>\n",
       "      <td>-0.068351</td>\n",
       "      <td>0.007890</td>\n",
       "      <td>0.125408</td>\n",
       "      <td>-0.300529</td>\n",
       "      <td>-0.146435</td>\n",
       "      <td>1.000000</td>\n",
       "      <td>0.231792</td>\n",
       "      <td>0.931284</td>\n",
       "      <td>0.053874</td>\n",
       "      <td>0.292793</td>\n",
       "    </tr>\n",
       "    <tr>\n",
       "      <th>diversification_wt</th>\n",
       "      <td>0.100639</td>\n",
       "      <td>-0.126545</td>\n",
       "      <td>-0.009312</td>\n",
       "      <td>0.248102</td>\n",
       "      <td>0.102660</td>\n",
       "      <td>-0.098938</td>\n",
       "      <td>0.231792</td>\n",
       "      <td>1.000000</td>\n",
       "      <td>0.252134</td>\n",
       "      <td>0.245459</td>\n",
       "      <td>0.001453</td>\n",
       "    </tr>\n",
       "    <tr>\n",
       "      <th>chargeoff_rate_wt</th>\n",
       "      <td>0.395274</td>\n",
       "      <td>-0.019802</td>\n",
       "      <td>-0.002508</td>\n",
       "      <td>0.138619</td>\n",
       "      <td>-0.244524</td>\n",
       "      <td>-0.110061</td>\n",
       "      <td>0.931284</td>\n",
       "      <td>0.252134</td>\n",
       "      <td>1.000000</td>\n",
       "      <td>0.071777</td>\n",
       "      <td>0.370003</td>\n",
       "    </tr>\n",
       "    <tr>\n",
       "      <th>income_msa</th>\n",
       "      <td>0.212615</td>\n",
       "      <td>-0.029512</td>\n",
       "      <td>-0.048223</td>\n",
       "      <td>-0.020949</td>\n",
       "      <td>-0.024215</td>\n",
       "      <td>0.022970</td>\n",
       "      <td>0.053874</td>\n",
       "      <td>0.245459</td>\n",
       "      <td>0.071777</td>\n",
       "      <td>1.000000</td>\n",
       "      <td>-0.006557</td>\n",
       "    </tr>\n",
       "    <tr>\n",
       "      <th>ur</th>\n",
       "      <td>0.224509</td>\n",
       "      <td>0.020182</td>\n",
       "      <td>-0.055500</td>\n",
       "      <td>-0.021556</td>\n",
       "      <td>-0.207244</td>\n",
       "      <td>0.011591</td>\n",
       "      <td>0.292793</td>\n",
       "      <td>0.001453</td>\n",
       "      <td>0.370003</td>\n",
       "      <td>-0.006557</td>\n",
       "      <td>1.000000</td>\n",
       "    </tr>\n",
       "  </tbody>\n",
       "</table>\n",
       "</div>"
      ],
      "text/plain": [
       "                     failure  tier1capital_wt  loan_asset_wt    oca_wt  \\\n",
       "failure             1.000000        -0.014277      -0.041015 -0.016961   \n",
       "tier1capital_wt    -0.014277         1.000000      -0.073789 -0.043558   \n",
       "loan_asset_wt      -0.041015        -0.073789       1.000000  0.891538   \n",
       "oca_wt             -0.016961        -0.043558       0.891538  1.000000   \n",
       "roa_wt             -0.182427         0.054637       0.791704  0.766291   \n",
       "liquidity_wt       -0.035320         0.243700       0.628456  0.619759   \n",
       "creditrisk_wt       0.384379        -0.068351       0.007890  0.125408   \n",
       "diversification_wt  0.100639        -0.126545      -0.009312  0.248102   \n",
       "chargeoff_rate_wt   0.395274        -0.019802      -0.002508  0.138619   \n",
       "income_msa          0.212615        -0.029512      -0.048223 -0.020949   \n",
       "ur                  0.224509         0.020182      -0.055500 -0.021556   \n",
       "\n",
       "                      roa_wt  liquidity_wt  creditrisk_wt  diversification_wt  \\\n",
       "failure            -0.182427     -0.035320       0.384379            0.100639   \n",
       "tier1capital_wt     0.054637      0.243700      -0.068351           -0.126545   \n",
       "loan_asset_wt       0.791704      0.628456       0.007890           -0.009312   \n",
       "oca_wt              0.766291      0.619759       0.125408            0.248102   \n",
       "roa_wt              1.000000      0.604098      -0.300529            0.102660   \n",
       "liquidity_wt        0.604098      1.000000      -0.146435           -0.098938   \n",
       "creditrisk_wt      -0.300529     -0.146435       1.000000            0.231792   \n",
       "diversification_wt  0.102660     -0.098938       0.231792            1.000000   \n",
       "chargeoff_rate_wt  -0.244524     -0.110061       0.931284            0.252134   \n",
       "income_msa         -0.024215      0.022970       0.053874            0.245459   \n",
       "ur                 -0.207244      0.011591       0.292793            0.001453   \n",
       "\n",
       "                    chargeoff_rate_wt  income_msa        ur  \n",
       "failure                      0.395274    0.212615  0.224509  \n",
       "tier1capital_wt             -0.019802   -0.029512  0.020182  \n",
       "loan_asset_wt               -0.002508   -0.048223 -0.055500  \n",
       "oca_wt                       0.138619   -0.020949 -0.021556  \n",
       "roa_wt                      -0.244524   -0.024215 -0.207244  \n",
       "liquidity_wt                -0.110061    0.022970  0.011591  \n",
       "creditrisk_wt                0.931284    0.053874  0.292793  \n",
       "diversification_wt           0.252134    0.245459  0.001453  \n",
       "chargeoff_rate_wt            1.000000    0.071777  0.370003  \n",
       "income_msa                   0.071777    1.000000 -0.006557  \n",
       "ur                           0.370003   -0.006557  1.000000  "
      ]
     },
     "execution_count": 3,
     "metadata": {},
     "output_type": "execute_result"
    }
   ],
   "source": [
    "data.corr(method='pearson', min_periods=1)"
   ]
  },
  {
   "cell_type": "markdown",
   "metadata": {},
   "source": [
    "## As we can see above there is high degrees of correlation between several pairs of variables, validating concerns of multicollinearity and hence overfitting."
   ]
  },
  {
   "cell_type": "markdown",
   "metadata": {},
   "source": [
    "## Next we will create a numpy array of the features and label."
   ]
  },
  {
   "cell_type": "code",
   "execution_count": 4,
   "metadata": {},
   "outputs": [],
   "source": [
    "Features = np.array(data[['tier1capital_wt', 'loan_asset_wt', 'oca_wt', 'roa_wt', 'liquidity_wt', 'creditrisk_wt', 'diversification_wt', 'chargeoff_rate_wt', 'income_msa', 'ur']])\n",
    "Labels =  np.array(data[['failure']])    "
   ]
  },
  {
   "cell_type": "markdown",
   "metadata": {},
   "source": [
    "## Now we will partition the dataset into training and test datasets"
   ]
  },
  {
   "cell_type": "code",
   "execution_count": 5,
   "metadata": {},
   "outputs": [],
   "source": [
    "# Split the dataset into test and training set\n",
    "nr.seed(1115)\n",
    "indx = range(Features.shape[0])\n",
    "indx = ms.train_test_split(indx, test_size = 7277)\n",
    "X_train = Features[indx[0],:]\n",
    "y_train = np.ravel(Labels[indx[0]])\n",
    "X_test = Features[indx[1],:]\n",
    "y_test = np.ravel(Labels[indx[1]])"
   ]
  },
  {
   "cell_type": "markdown",
   "metadata": {},
   "source": [
    "## Numeric features are scaled or standardized.\n",
    "## A Zscore scale object is defined using the StandarScaler function from the Scikit Learn preprocessing package. Here each feature is subtracted from its mean and then divided by the standard deviation.\n",
    "## The scaler is fit to the training features. Subsequently, this scaler is used to apply the same scaling to the test data and in production.\n",
    "## The training features are scaled using the transform method."
   ]
  },
  {
   "cell_type": "code",
   "execution_count": 6,
   "metadata": {},
   "outputs": [],
   "source": [
    "scale = preprocessing.StandardScaler()\n",
    "scale.fit(X_train)\n",
    "X_train = scale.transform(X_train)"
   ]
  },
  {
   "cell_type": "markdown",
   "metadata": {},
   "source": [
    "## We compute a principal components on the features of the training dataset"
   ]
  },
  {
   "cell_type": "code",
   "execution_count": 7,
   "metadata": {},
   "outputs": [
    {
     "data": {
      "text/plain": [
       "PCA(copy=True, iterated_power='auto', n_components=None, random_state=None,\n",
       "  svd_solver='auto', tol=0.0, whiten=False)"
      ]
     },
     "execution_count": 7,
     "metadata": {},
     "output_type": "execute_result"
    }
   ],
   "source": [
    "#Compute the principal components for the training feature subset\n",
    "pca_mod = skde.PCA()\n",
    "pca_comps = pca_mod.fit(X_train)\n",
    "pca_comps"
   ]
  },
  {
   "cell_type": "markdown",
   "metadata": {},
   "source": [
    "## Print the variance explained for each component and the sum of the variance explained"
   ]
  },
  {
   "cell_type": "code",
   "execution_count": 8,
   "metadata": {},
   "outputs": [
    {
     "name": "stdout",
     "output_type": "stream",
     "text": [
      "[0.27073366 0.19833031 0.14519334 0.12124042 0.0759556  0.07177791\n",
      " 0.05407363 0.03404551 0.02344666 0.00520296]\n",
      "1.0000000000000002\n"
     ]
    }
   ],
   "source": [
    "print(pca_comps.explained_variance_ratio_)\n",
    "print(np.sum(pca_comps.explained_variance_ratio_)) "
   ]
  },
  {
   "cell_type": "code",
   "execution_count": 9,
   "metadata": {},
   "outputs": [
    {
     "data": {
      "image/png": "[encoded data removed]",
      "text/plain": [
       "<Figure size 432x288 with 1 Axes>"
      ]
     },
     "metadata": {
      "needs_background": "light"
     },
     "output_type": "display_data"
    }
   ],
   "source": [
    "#Explained variance vs. the component\n",
    "def plot_explained(mod):\n",
    "    comps = mod.explained_variance_ratio_\n",
    "    x = range(len(comps))\n",
    "    x = [y + 1 for y in x]          \n",
    "    plt.plot(x,comps)\n",
    "\n",
    "#Show the scree plot    \n",
    "plot_explained(pca_comps)  "
   ]
  },
  {
   "cell_type": "markdown",
   "metadata": {},
   "source": [
    "## Next we will create a PCA model with a reduced number of components, 5 components."
   ]
  },
  {
   "cell_type": "code",
   "execution_count": 10,
   "metadata": {},
   "outputs": [
    {
     "data": {
      "text/plain": [
       "(1819, 5)"
      ]
     },
     "execution_count": 10,
     "metadata": {},
     "output_type": "execute_result"
    }
   ],
   "source": [
    "# Fits a PCA model with 5 components\n",
    "pca_mod_5 = skde.PCA(n_components = 5)\n",
    "pca_mod_5.fit(X_train)\n",
    "Comps = pca_mod_5.transform(X_train)\n",
    "Comps.shape"
   ]
  },
  {
   "cell_type": "markdown",
   "metadata": {},
   "source": [
    "## Compute and evaluate a logistic regression model using the features transformed by the first 5 principal components."
   ]
  },
  {
   "cell_type": "code",
   "execution_count": 11,
   "metadata": {},
   "outputs": [
    {
     "name": "stdout",
     "output_type": "stream",
     "text": [
      "[-3.2699718]\n",
      "[[ 0.55208177 -0.56769096 -0.03625213  0.62126205  0.00227756]]\n"
     ]
    },
    {
     "name": "stderr",
     "output_type": "stream",
     "text": [
      "C:\\Users\\Amit Ghosh.SFH-315-0605\\Anaconda3\\lib\\site-packages\\sklearn\\linear_model\\logistic.py:433: FutureWarning: Default solver will be changed to 'lbfgs' in 0.22. Specify a solver to silence this warning.\n",
      "  FutureWarning)\n"
     ]
    }
   ],
   "source": [
    "## Define and fit the logistic regression model\n",
    "log_mod_5 = linear_model.LogisticRegression(C = 10.0, class_weight = {0:0.45, 1:0.55}) \n",
    "log_mod_5.fit(Comps, y_train)\n",
    "print(log_mod_5.intercept_)\n",
    "print(log_mod_5.coef_)"
   ]
  },
  {
   "cell_type": "markdown",
   "metadata": {},
   "source": [
    "## Evaluating the model by computing Accuracy, ROC, AUC and the Confusion matrix. "
   ]
  },
  {
   "cell_type": "code",
   "execution_count": 12,
   "metadata": {},
   "outputs": [
    {
     "name": "stdout",
     "output_type": "stream",
     "text": [
      "                 Confusion matrix\n",
      "                 Score positive    Score negative\n",
      "Actual positive         0              6756\n",
      "Actual negative         0               521\n",
      "\n",
      "Accuracy        0.07\n",
      "AUC             0.50\n",
      "Macro precision 0.04\n",
      "Macro recall    0.50\n",
      " \n",
      "           Positive      Negative\n",
      "Num case     6756           521\n",
      "Precision    0.00          0.07\n",
      "Recall       0.00          1.00\n",
      "F1           0.00          0.13\n"
     ]
    },
    {
     "name": "stderr",
     "output_type": "stream",
     "text": [
      "C:\\Users\\Amit Ghosh.SFH-315-0605\\Anaconda3\\lib\\site-packages\\sklearn\\metrics\\classification.py:1143: UndefinedMetricWarning: Precision and F-score are ill-defined and being set to 0.0 in labels with no predicted samples.\n",
      "  'precision', 'predicted', average, warn_for)\n"
     ]
    },
    {
     "data": {
      "image/png": "[encoded data removed]",
      "text/plain": [
       "<Figure size 432x288 with 1 Axes>"
      ]
     },
     "metadata": {
      "needs_background": "light"
     },
     "output_type": "display_data"
    }
   ],
   "source": [
    "#Evaluate the model\n",
    "def score_model(probs, threshold):\n",
    "    return np.array([1 if x > threshold else 0 for x in probs[:,1]])\n",
    "\n",
    "def print_metrics(labels, probs, threshold):\n",
    "    scores = score_model(probs, threshold)\n",
    "    metrics = sklm.precision_recall_fscore_support(labels, scores)\n",
    "    conf = sklm.confusion_matrix(labels, scores)\n",
    "    print('                 Confusion matrix')\n",
    "    print('                 Score positive    Score negative')\n",
    "    print('Actual positive    %6d' % conf[0,0] + '             %5d' % conf[0,1])\n",
    "    print('Actual negative    %6d' % conf[1,0] + '             %5d' % conf[1,1])\n",
    "    print('')\n",
    "    print('Accuracy        %0.2f' % sklm.accuracy_score(labels, scores))\n",
    "    print('AUC             %0.2f' % sklm.roc_auc_score(labels, probs[:,1]))\n",
    "    print('Macro precision %0.2f' % float((float(metrics[0][0]) + float(metrics[0][1]))/2.0))\n",
    "    print('Macro recall    %0.2f' % float((float(metrics[1][0]) + float(metrics[1][1]))/2.0))\n",
    "    print(' ')\n",
    "    print('           Positive      Negative')\n",
    "    print('Num case   %6d' % metrics[3][0] + '        %6d' % metrics[3][1])\n",
    "    print('Precision  %6.2f' % metrics[0][0] + '        %6.2f' % metrics[0][1])\n",
    "    print('Recall     %6.2f' % metrics[1][0] + '        %6.2f' % metrics[1][1])\n",
    "    print('F1         %6.2f' % metrics[2][0] + '        %6.2f' % metrics[2][1])\n",
    "\n",
    "def plot_auc(labels, probs):\n",
    "    ## Compute the false positive rate, true positive rate\n",
    "    ## and threshold along with the AUC\n",
    "    fpr, tpr, threshold = sklm.roc_curve(labels, probs[:,1])\n",
    "    auc = sklm.auc(fpr, tpr)\n",
    "    \n",
    "    ## Plot the result\n",
    "    plt.title('Receiver Operating Characteristic')\n",
    "    plt.plot(fpr, tpr, color = 'orange', label = 'AUC = %0.2f' % auc)\n",
    "    plt.legend(loc = 'lower right')\n",
    "    plt.plot([0, 1], [0, 1],'r--')\n",
    "    plt.xlim([0, 1])\n",
    "    plt.ylim([0, 1])\n",
    "    plt.ylabel('True Positive Rate')\n",
    "    plt.xlabel('False Positive Rate')\n",
    "    plt.show()    \n",
    "\n",
    "probabilities = log_mod_5.predict_proba(pca_mod_5.transform(X_test))\n",
    "print_metrics(y_test, probabilities, 0.3)    \n",
    "plot_auc(y_test, probabilities)                       "
   ]
  },
  {
   "cell_type": "markdown",
   "metadata": {},
   "source": [
    "## To improve model performance we next compute and evaluate a logistic regression model using the first 10 principal components. "
   ]
  },
  {
   "cell_type": "code",
   "execution_count": 13,
   "metadata": {},
   "outputs": [
    {
     "data": {
      "text/plain": [
       "(1819, 10)"
      ]
     },
     "execution_count": 13,
     "metadata": {},
     "output_type": "execute_result"
    }
   ],
   "source": [
    "pca_mod_10 = skde.PCA(n_components = 10)\n",
    "pca_mod_10.fit(X_train)\n",
    "Comps_10 = pca_mod_10.transform(X_train)\n",
    "Comps_10.shape "
   ]
  },
  {
   "cell_type": "markdown",
   "metadata": {},
   "source": [
    "## Define and fit the logistic regression model using the 10 components"
   ]
  },
  {
   "cell_type": "code",
   "execution_count": 14,
   "metadata": {},
   "outputs": [
    {
     "name": "stderr",
     "output_type": "stream",
     "text": [
      "C:\\Users\\Amit Ghosh.SFH-315-0605\\Anaconda3\\lib\\site-packages\\sklearn\\linear_model\\logistic.py:433: FutureWarning: Default solver will be changed to 'lbfgs' in 0.22. Specify a solver to silence this warning.\n",
      "  FutureWarning)\n"
     ]
    },
    {
     "data": {
      "text/plain": [
       "LogisticRegression(C=10.0, class_weight={0: 0.45, 1: 0.55}, dual=False,\n",
       "          fit_intercept=True, intercept_scaling=1, max_iter=100,\n",
       "          multi_class='warn', n_jobs=None, penalty='l2', random_state=None,\n",
       "          solver='warn', tol=0.0001, verbose=0, warm_start=False)"
      ]
     },
     "execution_count": 14,
     "metadata": {},
     "output_type": "execute_result"
    }
   ],
   "source": [
    "log_mod_10 = linear_model.LogisticRegression(C = 10.0, class_weight = {0:0.45, 1:0.55}) \n",
    "log_mod_10.fit(Comps_10, y_train)"
   ]
  },
  {
   "cell_type": "markdown",
   "metadata": {},
   "source": [
    "## Score the logistic regression model and display performance metrics"
   ]
  },
  {
   "cell_type": "code",
   "execution_count": 15,
   "metadata": {},
   "outputs": [
    {
     "name": "stdout",
     "output_type": "stream",
     "text": [
      "                 Confusion matrix\n",
      "                 Score positive    Score negative\n",
      "Actual positive         0              6756\n",
      "Actual negative         0               521\n",
      "\n",
      "Accuracy        0.07\n",
      "AUC             0.50\n",
      "Macro precision 0.04\n",
      "Macro recall    0.50\n",
      " \n",
      "           Positive      Negative\n",
      "Num case     6756           521\n",
      "Precision    0.00          0.07\n",
      "Recall       0.00          1.00\n",
      "F1           0.00          0.13\n"
     ]
    },
    {
     "name": "stderr",
     "output_type": "stream",
     "text": [
      "C:\\Users\\Amit Ghosh.SFH-315-0605\\Anaconda3\\lib\\site-packages\\sklearn\\metrics\\classification.py:1143: UndefinedMetricWarning: Precision and F-score are ill-defined and being set to 0.0 in labels with no predicted samples.\n",
      "  'precision', 'predicted', average, warn_for)\n"
     ]
    },
    {
     "data": {
      "image/png": "[encoded data removed]",
      "text/plain": [
       "<Figure size 432x288 with 1 Axes>"
      ]
     },
     "metadata": {
      "needs_background": "light"
     },
     "output_type": "display_data"
    }
   ],
   "source": [
    "probabilities = log_mod_10.predict_proba(pca_mod_10.transform(X_test))\n",
    "print_metrics(y_test, probabilities, 0.3)  \n",
    "plot_auc(y_test, probabilities)"
   ]
  },
  {
   "cell_type": "markdown",
   "metadata": {},
   "source": [
    "## Perform the cross validation and display the result to check if the difference is really significant between the two models"
   ]
  },
  {
   "cell_type": "code",
   "execution_count": 16,
   "metadata": {},
   "outputs": [],
   "source": [
    "def print_format(f,x,y,z):\n",
    "    print('Fold %2d    %4.3f        %4.3f      %4.3f' % (f, x, y, z))\n",
    "\n",
    "def print_cv(scores):\n",
    "    fold = [x + 1 for x in range(len(scores['test_precision_macro']))]\n",
    "    print('         Precision     Recall       AUC')\n",
    "    [print_format(f,x,y,z) for f,x,y,z in zip(fold, scores['test_precision_macro'], \n",
    "                                          scores['test_recall_macro'],\n",
    "                                          scores['test_roc_auc'])]\n",
    "    print('-' * 40)\n",
    "    print('Mean       %4.3f        %4.3f      %4.3f' % \n",
    "          (np.mean(scores['test_precision_macro']), np.mean(scores['test_recall_macro']), np.mean(scores['test_roc_auc'])))  \n",
    "    print('Std        %4.3f        %4.3f      %4.3f' % \n",
    "          (np.std(scores['test_precision_macro']), np.std(scores['test_recall_macro']), np.std(scores['test_roc_auc'])))\n",
    "  \n",
    "Labels = Labels.reshape(Labels.shape[0],)\n",
    "scoring = ['precision_macro', 'recall_macro', 'roc_auc'] "
   ]
  },
  {
   "cell_type": "code",
   "execution_count": 18,
   "metadata": {},
   "outputs": [
    {
     "name": "stdout",
     "output_type": "stream",
     "text": [
      "         Precision     Recall       AUC\n",
      "Fold  1    0.583        0.694      0.761\n",
      "Fold  2    0.568        0.668      0.742\n",
      "Fold  3    0.565        0.633      0.736\n",
      "Fold  4    0.557        0.575      0.666\n",
      "Fold  5    0.598        0.667      0.750\n",
      "Fold  6    0.575        0.647      0.784\n",
      "Fold  7    0.552        0.649      0.797\n",
      "Fold  8    0.540        0.625      0.685\n",
      "Fold  9    0.567        0.671      0.755\n",
      "Fold 10    0.529        0.557      0.655\n",
      "----------------------------------------\n",
      "Mean       0.563        0.638      0.733\n",
      "Std        0.019        0.041      0.046\n"
     ]
    },
    {
     "name": "stderr",
     "output_type": "stream",
     "text": [
      "C:\\Users\\Amit Ghosh.SFH-315-0605\\Anaconda3\\lib\\site-packages\\sklearn\\linear_model\\logistic.py:433: FutureWarning: Default solver will be changed to 'lbfgs' in 0.22. Specify a solver to silence this warning.\n",
      "  FutureWarning)\n",
      "C:\\Users\\Amit Ghosh.SFH-315-0605\\Anaconda3\\lib\\site-packages\\sklearn\\linear_model\\logistic.py:433: FutureWarning: Default solver will be changed to 'lbfgs' in 0.22. Specify a solver to silence this warning.\n",
      "  FutureWarning)\n",
      "C:\\Users\\Amit Ghosh.SFH-315-0605\\Anaconda3\\lib\\site-packages\\sklearn\\linear_model\\logistic.py:433: FutureWarning: Default solver will be changed to 'lbfgs' in 0.22. Specify a solver to silence this warning.\n",
      "  FutureWarning)\n",
      "C:\\Users\\Amit Ghosh.SFH-315-0605\\Anaconda3\\lib\\site-packages\\sklearn\\linear_model\\logistic.py:433: FutureWarning: Default solver will be changed to 'lbfgs' in 0.22. Specify a solver to silence this warning.\n",
      "  FutureWarning)\n",
      "C:\\Users\\Amit Ghosh.SFH-315-0605\\Anaconda3\\lib\\site-packages\\sklearn\\linear_model\\logistic.py:433: FutureWarning: Default solver will be changed to 'lbfgs' in 0.22. Specify a solver to silence this warning.\n",
      "  FutureWarning)\n",
      "C:\\Users\\Amit Ghosh.SFH-315-0605\\Anaconda3\\lib\\site-packages\\sklearn\\linear_model\\logistic.py:433: FutureWarning: Default solver will be changed to 'lbfgs' in 0.22. Specify a solver to silence this warning.\n",
      "  FutureWarning)\n",
      "C:\\Users\\Amit Ghosh.SFH-315-0605\\Anaconda3\\lib\\site-packages\\sklearn\\linear_model\\logistic.py:433: FutureWarning: Default solver will be changed to 'lbfgs' in 0.22. Specify a solver to silence this warning.\n",
      "  FutureWarning)\n",
      "C:\\Users\\Amit Ghosh.SFH-315-0605\\Anaconda3\\lib\\site-packages\\sklearn\\linear_model\\logistic.py:433: FutureWarning: Default solver will be changed to 'lbfgs' in 0.22. Specify a solver to silence this warning.\n",
      "  FutureWarning)\n",
      "C:\\Users\\Amit Ghosh.SFH-315-0605\\Anaconda3\\lib\\site-packages\\sklearn\\linear_model\\logistic.py:433: FutureWarning: Default solver will be changed to 'lbfgs' in 0.22. Specify a solver to silence this warning.\n",
      "  FutureWarning)\n",
      "C:\\Users\\Amit Ghosh.SFH-315-0605\\Anaconda3\\lib\\site-packages\\sklearn\\linear_model\\logistic.py:433: FutureWarning: Default solver will be changed to 'lbfgs' in 0.22. Specify a solver to silence this warning.\n",
      "  FutureWarning)\n"
     ]
    }
   ],
   "source": [
    "pca_mod = skde.PCA(n_components = 5)\n",
    "pca_mod.fit(Features)\n",
    "Comps = pca_mod.transform(Features)\n",
    "\n",
    "scores = ms.cross_validate(log_mod_5, Comps, Labels, scoring=scoring,\n",
    "                        cv=10, return_train_score=False)\n",
    "print_cv(scores)"
   ]
  },
  {
   "cell_type": "code",
   "execution_count": 17,
   "metadata": {},
   "outputs": [
    {
     "name": "stdout",
     "output_type": "stream",
     "text": [
      "         Precision     Recall       AUC\n",
      "Fold  1    0.583        0.694      0.761\n",
      "Fold  2    0.568        0.668      0.742\n",
      "Fold  3    0.565        0.633      0.736\n",
      "Fold  4    0.557        0.575      0.666\n",
      "Fold  5    0.598        0.667      0.750\n",
      "Fold  6    0.575        0.647      0.784\n",
      "Fold  7    0.552        0.649      0.797\n",
      "Fold  8    0.540        0.625      0.685\n",
      "Fold  9    0.567        0.671      0.755\n",
      "Fold 10    0.529        0.557      0.655\n",
      "----------------------------------------\n",
      "Mean       0.563        0.638      0.733\n",
      "Std        0.019        0.041      0.046\n"
     ]
    },
    {
     "name": "stderr",
     "output_type": "stream",
     "text": [
      "C:\\Users\\Amit Ghosh.SFH-315-0605\\Anaconda3\\lib\\site-packages\\sklearn\\linear_model\\logistic.py:433: FutureWarning: Default solver will be changed to 'lbfgs' in 0.22. Specify a solver to silence this warning.\n",
      "  FutureWarning)\n",
      "C:\\Users\\Amit Ghosh.SFH-315-0605\\Anaconda3\\lib\\site-packages\\sklearn\\linear_model\\logistic.py:433: FutureWarning: Default solver will be changed to 'lbfgs' in 0.22. Specify a solver to silence this warning.\n",
      "  FutureWarning)\n",
      "C:\\Users\\Amit Ghosh.SFH-315-0605\\Anaconda3\\lib\\site-packages\\sklearn\\linear_model\\logistic.py:433: FutureWarning: Default solver will be changed to 'lbfgs' in 0.22. Specify a solver to silence this warning.\n",
      "  FutureWarning)\n",
      "C:\\Users\\Amit Ghosh.SFH-315-0605\\Anaconda3\\lib\\site-packages\\sklearn\\linear_model\\logistic.py:433: FutureWarning: Default solver will be changed to 'lbfgs' in 0.22. Specify a solver to silence this warning.\n",
      "  FutureWarning)\n",
      "C:\\Users\\Amit Ghosh.SFH-315-0605\\Anaconda3\\lib\\site-packages\\sklearn\\linear_model\\logistic.py:433: FutureWarning: Default solver will be changed to 'lbfgs' in 0.22. Specify a solver to silence this warning.\n",
      "  FutureWarning)\n",
      "C:\\Users\\Amit Ghosh.SFH-315-0605\\Anaconda3\\lib\\site-packages\\sklearn\\linear_model\\logistic.py:433: FutureWarning: Default solver will be changed to 'lbfgs' in 0.22. Specify a solver to silence this warning.\n",
      "  FutureWarning)\n",
      "C:\\Users\\Amit Ghosh.SFH-315-0605\\Anaconda3\\lib\\site-packages\\sklearn\\linear_model\\logistic.py:433: FutureWarning: Default solver will be changed to 'lbfgs' in 0.22. Specify a solver to silence this warning.\n",
      "  FutureWarning)\n",
      "C:\\Users\\Amit Ghosh.SFH-315-0605\\Anaconda3\\lib\\site-packages\\sklearn\\linear_model\\logistic.py:433: FutureWarning: Default solver will be changed to 'lbfgs' in 0.22. Specify a solver to silence this warning.\n",
      "  FutureWarning)\n",
      "C:\\Users\\Amit Ghosh.SFH-315-0605\\Anaconda3\\lib\\site-packages\\sklearn\\linear_model\\logistic.py:433: FutureWarning: Default solver will be changed to 'lbfgs' in 0.22. Specify a solver to silence this warning.\n",
      "  FutureWarning)\n",
      "C:\\Users\\Amit Ghosh.SFH-315-0605\\Anaconda3\\lib\\site-packages\\sklearn\\linear_model\\logistic.py:433: FutureWarning: Default solver will be changed to 'lbfgs' in 0.22. Specify a solver to silence this warning.\n",
      "  FutureWarning)\n"
     ]
    }
   ],
   "source": [
    "pca_mod = skde.PCA(n_components = 10)\n",
    "pca_mod.fit(Features)\n",
    "Comps = pca_mod.transform(Features)\n",
    "\n",
    "scores = ms.cross_validate(log_mod_10, Comps, Labels, scoring=scoring,\n",
    "                        cv=10, return_train_score=False)\n",
    "print_cv(scores)"
   ]
  },
  {
   "cell_type": "markdown",
   "metadata": {},
   "source": [
    "## We do not find any significant difference between the two models. "
   ]
  }
 ],
 "metadata": {
  "kernelspec": {
   "display_name": "Python 3",
   "language": "python",
   "name": "python3"
  },
  "language_info": {
   "codemirror_mode": {
    "name": "ipython",
    "version": 3
   },
   "file_extension": ".py",
   "mimetype": "text/x-python",
   "name": "python",
   "nbconvert_exporter": "python",
   "pygments_lexer": "ipython3",
   "version": "3.7.3"
  }
 },
 "nbformat": 4,
 "nbformat_minor": 2
}
