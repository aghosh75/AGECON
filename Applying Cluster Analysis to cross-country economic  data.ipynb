{
 "cells": [
  {
   "cell_type": "code",
   "execution_count": 107,
   "metadata": {},
   "outputs": [],
   "source": [
    "import pandas as pd\n",
    "import numpy as np\n",
    "import numpy.random as nr\n",
    "from sklearn.cluster import KMeans, AgglomerativeClustering\n",
    "from sklearn.metrics import silhouette_score\n",
    "from sklearn.preprocessing import StandardScaler\n",
    "import matplotlib.pyplot as plt\n",
    "import seaborn as sns\n",
    "import scipy.stats as ss\n",
    "import math\n",
    "from sklearn import preprocessing\n",
    "\n",
    "%matplotlib inline"
   ]
  },
  {
   "cell_type": "markdown",
   "metadata": {},
   "source": [
    "## Import the cross-country dataset on key economic variables. "
   ]
  },
  {
   "cell_type": "code",
   "execution_count": 108,
   "metadata": {},
   "outputs": [
    {
     "name": "stdout",
     "output_type": "stream",
     "text": [
      "(38, 10)\n",
      "['Countries', 'Development', 'Hemisphere', 'GDPpercapitagrowth ', 'Capitalformation', 'Populationgrowth', 'TradeOpenness', 'HumanCapital ', 'Inflation', 'Unemployment']\n"
     ]
    }
   ],
   "source": [
    "data = pd.read_csv('ClusterAnalysis.csv')\n",
    "data.head()\n",
    "data = data.dropna()\n",
    "print(data.shape)\n",
    "print(list(data.columns))"
   ]
  },
  {
   "cell_type": "code",
   "execution_count": 109,
   "metadata": {},
   "outputs": [
    {
     "data": {
      "text/html": [
       "<div>\n",
       "<style scoped>\n",
       "    .dataframe tbody tr th:only-of-type {\n",
       "        vertical-align: middle;\n",
       "    }\n",
       "\n",
       "    .dataframe tbody tr th {\n",
       "        vertical-align: top;\n",
       "    }\n",
       "\n",
       "    .dataframe thead th {\n",
       "        text-align: right;\n",
       "    }\n",
       "</style>\n",
       "<table border=\"1\" class=\"dataframe\">\n",
       "  <thead>\n",
       "    <tr style=\"text-align: right;\">\n",
       "      <th></th>\n",
       "      <th>Countries</th>\n",
       "      <th>Development</th>\n",
       "      <th>Hemisphere</th>\n",
       "      <th>GDPpercapitagrowth</th>\n",
       "      <th>Capitalformation</th>\n",
       "      <th>Populationgrowth</th>\n",
       "      <th>TradeOpenness</th>\n",
       "      <th>HumanCapital</th>\n",
       "      <th>Inflation</th>\n",
       "      <th>Unemployment</th>\n",
       "    </tr>\n",
       "  </thead>\n",
       "  <tbody>\n",
       "    <tr>\n",
       "      <th>0</th>\n",
       "      <td>Afghanistan</td>\n",
       "      <td>LDC</td>\n",
       "      <td>NH</td>\n",
       "      <td>1.785902</td>\n",
       "      <td>26.451373</td>\n",
       "      <td>1.218943</td>\n",
       "      <td>32.352110</td>\n",
       "      <td>3.213360</td>\n",
       "      <td>10.135841</td>\n",
       "      <td>6.1052</td>\n",
       "    </tr>\n",
       "    <tr>\n",
       "      <th>1</th>\n",
       "      <td>Algeria</td>\n",
       "      <td>LDC</td>\n",
       "      <td>NH</td>\n",
       "      <td>1.710981</td>\n",
       "      <td>28.443509</td>\n",
       "      <td>1.586853</td>\n",
       "      <td>31.656422</td>\n",
       "      <td>3.232605</td>\n",
       "      <td>9.487666</td>\n",
       "      <td>5.7836</td>\n",
       "    </tr>\n",
       "    <tr>\n",
       "      <th>2</th>\n",
       "      <td>Antigua and Barbuda</td>\n",
       "      <td>DC</td>\n",
       "      <td>NH</td>\n",
       "      <td>1.619373</td>\n",
       "      <td>29.000399</td>\n",
       "      <td>1.667536</td>\n",
       "      <td>30.374779</td>\n",
       "      <td>3.251965</td>\n",
       "      <td>11.351820</td>\n",
       "      <td>7.1626</td>\n",
       "    </tr>\n",
       "    <tr>\n",
       "      <th>3</th>\n",
       "      <td>Argentina</td>\n",
       "      <td>DC</td>\n",
       "      <td>SH</td>\n",
       "      <td>-3.435314</td>\n",
       "      <td>26.592459</td>\n",
       "      <td>1.250548</td>\n",
       "      <td>29.222146</td>\n",
       "      <td>3.271441</td>\n",
       "      <td>10.038911</td>\n",
       "      <td>9.9614</td>\n",
       "    </tr>\n",
       "    <tr>\n",
       "      <th>4</th>\n",
       "      <td>Armenia</td>\n",
       "      <td>LDC</td>\n",
       "      <td>NH</td>\n",
       "      <td>3.403727</td>\n",
       "      <td>26.079925</td>\n",
       "      <td>1.132222</td>\n",
       "      <td>28.589242</td>\n",
       "      <td>3.291033</td>\n",
       "      <td>3.960396</td>\n",
       "      <td>8.9868</td>\n",
       "    </tr>\n",
       "  </tbody>\n",
       "</table>\n",
       "</div>"
      ],
      "text/plain": [
       "             Countries Development Hemisphere  GDPpercapitagrowth   \\\n",
       "0          Afghanistan         LDC         NH             1.785902   \n",
       "1              Algeria         LDC         NH             1.710981   \n",
       "2  Antigua and Barbuda          DC         NH             1.619373   \n",
       "3            Argentina          DC         SH            -3.435314   \n",
       "4              Armenia         LDC         NH             3.403727   \n",
       "\n",
       "   Capitalformation  Populationgrowth  TradeOpenness  HumanCapital   \\\n",
       "0         26.451373          1.218943      32.352110       3.213360   \n",
       "1         28.443509          1.586853      31.656422       3.232605   \n",
       "2         29.000399          1.667536      30.374779       3.251965   \n",
       "3         26.592459          1.250548      29.222146       3.271441   \n",
       "4         26.079925          1.132222      28.589242       3.291033   \n",
       "\n",
       "   Inflation  Unemployment  \n",
       "0  10.135841        6.1052  \n",
       "1   9.487666        5.7836  \n",
       "2  11.351820        7.1626  \n",
       "3  10.038911        9.9614  \n",
       "4   3.960396        8.9868  "
      ]
     },
     "execution_count": 109,
     "metadata": {},
     "output_type": "execute_result"
    }
   ],
   "source": [
    "data.head()"
   ]
  },
  {
   "cell_type": "code",
   "execution_count": 110,
   "metadata": {},
   "outputs": [
    {
     "data": {
      "text/plain": [
       "Countries               object\n",
       "Development             object\n",
       "Hemisphere              object\n",
       "GDPpercapitagrowth     float64\n",
       "Capitalformation       float64\n",
       "Populationgrowth       float64\n",
       "TradeOpenness          float64\n",
       "HumanCapital           float64\n",
       "Inflation              float64\n",
       "Unemployment           float64\n",
       "dtype: object"
      ]
     },
     "execution_count": 110,
     "metadata": {},
     "output_type": "execute_result"
    }
   ],
   "source": [
    "data.dtypes"
   ]
  },
  {
   "cell_type": "code",
   "execution_count": 111,
   "metadata": {},
   "outputs": [],
   "source": [
    "def encode_string(cat_feature):\n",
    "    ## First encode the strings to numeric categories\n",
    "    enc = preprocessing.LabelEncoder()\n",
    "    enc.fit(cat_feature)\n",
    "    enc_cat_feature = enc.transform(cat_feature)\n",
    "\n",
    "categorical_columns = ['Countries','Development', 'Hemisphere']\n",
    "for col in categorical_columns:\n",
    "    temp = encode_string(data[col])      "
   ]
  },
  {
   "cell_type": "code",
   "execution_count": 112,
   "metadata": {},
   "outputs": [
    {
     "name": "stdout",
     "output_type": "stream",
     "text": [
      "(38, 7)\n"
     ]
    }
   ],
   "source": [
    "Features = np.array(data[['Capitalformation', 'Populationgrowth', 'TradeOpenness', 'HumanCapital ', 'Inflation', 'Unemployment']])\n",
    "Labels =  np.array(data[['GDPpercapitagrowth ']]) \n",
    "scaler = StandardScaler()\n",
    "Features = scaler.fit_transform(Features)\n",
    "Labels = scaler.fit_transform(Labels) \n",
    "data = np.concatenate((Features,Labels), 1)\n",
    "print(data.shape)   "
   ]
  },
  {
   "cell_type": "markdown",
   "metadata": {},
   "source": [
    "## We are going to apply K-means clustering starting from 2 to 6 clusters. Then we will compute the WCSS, BCSS and the Sillohette coefficient to judge the best K means cluster model. "
   ]
  },
  {
   "cell_type": "code",
   "execution_count": 116,
   "metadata": {},
   "outputs": [],
   "source": [
    "# Apply K-means clustering\n",
    "# A dictionary is defined for mapping cluster assignment numbers to colors for the assignment visualization.\n",
    "# A K=2 K-means cluster model is defined.\n",
    "# The data is fit to the cluster model and assignments are computed.\n",
    "\n",
    "nr.seed(2233)\n",
    "col_dic = {0:'blue',1:'green',2:'orange',3:'gray',4:'magenta',5:'black'}\n",
    "kmeans_2 = KMeans(n_clusters=2, random_state=0)\n",
    "assignments_km2 = kmeans_2.fit_predict(data)\n",
    "assign_color_km2 = [col_dic[x] for x in assignments_km2]"
   ]
  },
  {
   "cell_type": "code",
   "execution_count": 117,
   "metadata": {},
   "outputs": [],
   "source": [
    "# Compute the cluster assignments for the K=3 model. \n",
    "\n",
    "nr.seed(4455)\n",
    "kmeans_3 = KMeans(n_clusters=3, random_state=0)\n",
    "assignments_km3 = kmeans_3.fit_predict(data)\n",
    "assign_color_km3 = [col_dic[x] for x in assignments_km3] "
   ]
  },
  {
   "cell_type": "code",
   "execution_count": 118,
   "metadata": {},
   "outputs": [],
   "source": [
    "# Compute the cluster assignments for the K=4 model. \n",
    "\n",
    "nr.seed(223)\n",
    "kmeans_4 = KMeans(n_clusters=4, random_state=0)\n",
    "assignments_km4 = kmeans_4.fit_predict(data)\n",
    "assign_color_km4 = [col_dic[x] for x in assignments_km4] "
   ]
  },
  {
   "cell_type": "code",
   "execution_count": 119,
   "metadata": {},
   "outputs": [],
   "source": [
    "# Compute the cluster assignments for the K=5 model. \n",
    "\n",
    "nr.seed(4443)\n",
    "kmeans_5 = KMeans(n_clusters=5, random_state=0)\n",
    "assignments_km5 = kmeans_5.fit_predict(data)\n",
    "assign_color_km5 = [col_dic[x] for x in assignments_km5] "
   ]
  },
  {
   "cell_type": "code",
   "execution_count": 120,
   "metadata": {},
   "outputs": [],
   "source": [
    "# Compute the cluster assignments for the K=6 model. \n",
    "\n",
    "nr.seed(2288)\n",
    "kmeans_6 = KMeans(n_clusters=6, random_state=0)\n",
    "assignments_km6 = kmeans_6.fit_predict(data)\n",
    "assign_color_km6 = [col_dic[x] for x in assignments_km6]"
   ]
  },
  {
   "cell_type": "markdown",
   "metadata": {},
   "source": [
    "## Selecting the best model. To so we compute and compare the within cluster sum of squares (WCSS), between cluster sum of squares (BCSS) and silhouette coefficient (SC) metrics. "
   ]
  },
  {
   "cell_type": "code",
   "execution_count": 121,
   "metadata": {},
   "outputs": [
    {
     "data": {
      "image/png": "[encoded data removed]",
      "text/plain": [
       "<Figure size 864x360 with 2 Axes>"
      ]
     },
     "metadata": {
      "needs_background": "light"
     },
     "output_type": "display_data"
    }
   ],
   "source": [
    "km_models = [kmeans_2, kmeans_3, kmeans_4, kmeans_5, kmeans_6]\n",
    "\n",
    "def plot_WCSS_km(km_models, samples):\n",
    "    fig, ax = plt.subplots(1, 2, figsize=(12,5))\n",
    "    \n",
    "    ## Plot WCSS\n",
    "    wcss = [mod.inertia_ for mod in km_models]\n",
    "    n_clusts = range(2,len(wcss) + 2)\n",
    "    ax[0].bar(n_clusts, wcss)\n",
    "    ax[0].set_xlabel('Number of clusters')\n",
    "    ax[0].set_ylabel('WCSS')\n",
    "    \n",
    "    ## Plot BCSS\n",
    "    ## Compute BCSS as TSS - WCSS \n",
    "    n_1 = (float(samples.shape[0]) * float(samples.shape[1])) - 1.0\n",
    "    tss = n_1 * np.var(samples)\n",
    "    bcss = [tss - x for x in wcss]\n",
    "    ax[1].bar(n_clusts, bcss)\n",
    "    ax[1].set_xlabel('Number of clusters')\n",
    "    ax[1].set_ylabel('BCSS')\n",
    "    plt.show()\n",
    "    \n",
    "\n",
    "plot_WCSS_km(km_models, data)"
   ]
  },
  {
   "cell_type": "markdown",
   "metadata": {},
   "source": [
    "## Compute and display the Sillohette Curve.   "
   ]
  },
  {
   "cell_type": "code",
   "execution_count": 122,
   "metadata": {},
   "outputs": [
    {
     "data": {
      "image/png": "[encoded data removed]",
      "text/plain": [
       "<Figure size 432x288 with 1 Axes>"
      ]
     },
     "metadata": {
      "needs_background": "light"
     },
     "output_type": "display_data"
    }
   ],
   "source": [
    "assignment_list = [assignments_km2, assignments_km3, assignments_km4, assignments_km5, assignments_km6]\n",
    "\n",
    "def plot_sillohette(samples, assignments, x_lab = 'Number of clusters'):\n",
    "    silhouette = [silhouette_score(samples, a) for a in assignments]\n",
    "    n_clusts = range(2, len(silhouette) + 2)\n",
    "    plt.bar(n_clusts, silhouette)\n",
    "    plt.xlabel(x_lab)\n",
    "    plt.ylabel('SC')\n",
    "    plt.show()\n",
    "\n",
    "plot_sillohette(data, assignment_list)"
   ]
  },
  {
   "cell_type": "markdown",
   "metadata": {},
   "source": [
    "## Based on the above metrics it appear the k=6 means clusteris the best one. "
   ]
  },
  {
   "cell_type": "markdown",
   "metadata": {},
   "source": [
    "## Now we are going to hierarchical clustering by using the agglomerative method. "
   ]
  },
  {
   "cell_type": "code",
   "execution_count": 123,
   "metadata": {},
   "outputs": [],
   "source": [
    "# Compute a 2 cluster agglomerative model and displays the cluster assignments. \n",
    "\n",
    "nr.seed(2233)\n",
    "agc_2 = AgglomerativeClustering(n_clusters=2)\n",
    "assignments_ag2 = agc_2.fit_predict(data)\n",
    "assign_color_ag2 = [col_dic[x] for x in assignments_ag2]"
   ]
  },
  {
   "cell_type": "code",
   "execution_count": 124,
   "metadata": {},
   "outputs": [],
   "source": [
    "# Compute a 3 cluster agglomerative model and displays the cluster assignments. \n",
    "\n",
    "nr.seed(4433)\n",
    "agc_3 = AgglomerativeClustering(n_clusters=3)\n",
    "assignments_ag3 = agc_3.fit_predict(data)\n",
    "assign_color_ag3 = [col_dic[x] for x in assignments_ag3]"
   ]
  },
  {
   "cell_type": "code",
   "execution_count": 125,
   "metadata": {},
   "outputs": [],
   "source": [
    "# Compute a 4 cluster agglomerative model and displays the cluster assignments.  \n",
    "\n",
    "nr.seed(2663)\n",
    "agc_4 = AgglomerativeClustering(n_clusters=4)\n",
    "assignments_ag4 = agc_4.fit_predict(data)\n",
    "assign_color_ag4 = [col_dic[x] for x in assignments_ag4]"
   ]
  },
  {
   "cell_type": "code",
   "execution_count": 126,
   "metadata": {},
   "outputs": [],
   "source": [
    "# Compute a 5 cluster agglomerative model and displays the cluster assignments.  \n",
    "\n",
    "nr.seed(6233)\n",
    "agc_5 = AgglomerativeClustering(n_clusters=5)\n",
    "assignments_ag5 = agc_5.fit_predict(data)\n",
    "assign_color_ag5 = [col_dic[x] for x in assignments_ag5]"
   ]
  },
  {
   "cell_type": "code",
   "execution_count": 127,
   "metadata": {},
   "outputs": [],
   "source": [
    "# Compute a 6 cluster agglomerative model and displays the cluster assignments.  \n",
    "\n",
    "nr.seed(2288)\n",
    "agc_6 = AgglomerativeClustering(n_clusters=6)\n",
    "assignments_ag6 = agc_6.fit_predict(data)\n",
    "assign_color_ag6 = [col_dic[x] for x in assignments_ag6] "
   ]
  },
  {
   "cell_type": "code",
   "execution_count": 128,
   "metadata": {},
   "outputs": [
    {
     "data": {
      "image/png": "[encoded data removed]",
      "text/plain": [
       "<Figure size 432x288 with 1 Axes>"
      ]
     },
     "metadata": {
      "needs_background": "light"
     },
     "output_type": "display_data"
    }
   ],
   "source": [
    "# Compute and display the the Sillohette Curve for the agglomerative clustering models. \n",
    "\n",
    "assignment_list = [assignments_ag2, assignments_ag3, assignments_ag4, assignments_ag5, assignments_ag6]\n",
    "plot_sillohette(data, assignment_list)"
   ]
  },
  {
   "cell_type": "markdown",
   "metadata": {},
   "source": [
    "## Again with the agglomerative clustering models, the k = 6 appears to be the best cluster model. "
   ]
  }
 ],
 "metadata": {
  "kernelspec": {
   "display_name": "Python 3",
   "language": "python",
   "name": "python3"
  },
  "language_info": {
   "codemirror_mode": {
    "name": "ipython",
    "version": 3
   },
   "file_extension": ".py",
   "mimetype": "text/x-python",
   "name": "python",
   "nbconvert_exporter": "python",
   "pygments_lexer": "ipython3",
   "version": "3.7.3"
  }
 },
 "nbformat": 4,
 "nbformat_minor": 2
}
