{
 "cells": [
  {
   "cell_type": "markdown",
   "metadata": {},
   "source": [
    "## We are going to use Linear Discriminant Analysis (LDA) to examine bank failures in any metropolitan statistical area (MSA) in the US. If there is a bank failure episode in any year then that observation is coded as 1 and zero otherwise.\n",
    "## There are 10 features that could have mutlicollinearity which would lead to overfitting. So, dimensionality reduction is relevant here. "
   ]
  },
  {
   "cell_type": "code",
   "execution_count": 19,
   "metadata": {},
   "outputs": [],
   "source": [
    "import seaborn as sns  \n",
    "import matplotlib as plt \n",
    "from matplotlib import pyplot as plt\n",
    "from sklearn import preprocessing\n",
    "from sklearn import linear_model\n",
    "import sklearn.metrics as sklm\n",
    "import sklearn.decomposition as skde\n",
    "from sklearn.preprocessing import scale \n",
    "from sklearn.neighbors import KNeighborsClassifier\n",
    "from sklearn.discriminant_analysis import LinearDiscriminantAnalysis \n",
    "from sklearn.discriminant_analysis import QuadraticDiscriminantAnalysis\n",
    "from sklearn.model_selection import train_test_split \n",
    "import sklearn.model_selection as ms\n",
    "import pandas as pd  \n",
    "import numpy as np \n",
    "import numpy.random as nr\n",
    "\n",
    "%matplotlib inline"
   ]
  },
  {
   "cell_type": "markdown",
   "metadata": {},
   "source": [
    "## The dataset spans more than 400 MSAs in the US from 1994-2014. There are 11 independent variables or features. 9 of them are banks' balacnce-sheet based variables like banks' capitalization, loans-to-assets, overhead costs, profitability, liquidity, credit risk, diversification and loan performance. The remaining two features are MSA-level economic conditions like personal income and unemployment rate. "
   ]
  },
  {
   "cell_type": "code",
   "execution_count": 2,
   "metadata": {},
   "outputs": [
    {
     "name": "stdout",
     "output_type": "stream",
     "text": [
      "(9096, 11)\n",
      "['failure', 'tier1capital_wt', 'loan_asset_wt', 'oca_wt', 'roa_wt', 'liquidity_wt', 'creditrisk_wt', 'diversification_wt', 'chargeoff_rate_wt', 'income_msa', 'ur']\n"
     ]
    }
   ],
   "source": [
    "#Importing the bank failure dataset \n",
    "data = pd.read_csv('BankFailures.csv')\n",
    "data.head()\n",
    "data = data.dropna()\n",
    "print(data.shape)\n",
    "print(list(data.columns)) "
   ]
  },
  {
   "cell_type": "markdown",
   "metadata": {},
   "source": [
    "## Pairwise correlations among all variables."
   ]
  },
  {
   "cell_type": "code",
   "execution_count": 3,
   "metadata": {},
   "outputs": [
    {
     "data": {
      "text/html": [
       "<div>\n",
       "<style scoped>\n",
       "    .dataframe tbody tr th:only-of-type {\n",
       "        vertical-align: middle;\n",
       "    }\n",
       "\n",
       "    .dataframe tbody tr th {\n",
       "        vertical-align: top;\n",
       "    }\n",
       "\n",
       "    .dataframe thead th {\n",
       "        text-align: right;\n",
       "    }\n",
       "</style>\n",
       "<table border=\"1\" class=\"dataframe\">\n",
       "  <thead>\n",
       "    <tr style=\"text-align: right;\">\n",
       "      <th></th>\n",
       "      <th>failure</th>\n",
       "      <th>tier1capital_wt</th>\n",
       "      <th>loan_asset_wt</th>\n",
       "      <th>oca_wt</th>\n",
       "      <th>roa_wt</th>\n",
       "      <th>liquidity_wt</th>\n",
       "      <th>creditrisk_wt</th>\n",
       "      <th>diversification_wt</th>\n",
       "      <th>chargeoff_rate_wt</th>\n",
       "      <th>income_msa</th>\n",
       "      <th>ur</th>\n",
       "    </tr>\n",
       "  </thead>\n",
       "  <tbody>\n",
       "    <tr>\n",
       "      <th>failure</th>\n",
       "      <td>1.000000</td>\n",
       "      <td>-0.014277</td>\n",
       "      <td>-0.041015</td>\n",
       "      <td>-0.016961</td>\n",
       "      <td>-0.182427</td>\n",
       "      <td>-0.035320</td>\n",
       "      <td>0.384379</td>\n",
       "      <td>0.100639</td>\n",
       "      <td>0.395274</td>\n",
       "      <td>0.212615</td>\n",
       "      <td>0.224509</td>\n",
       "    </tr>\n",
       "    <tr>\n",
       "      <th>tier1capital_wt</th>\n",
       "      <td>-0.014277</td>\n",
       "      <td>1.000000</td>\n",
       "      <td>-0.073789</td>\n",
       "      <td>-0.043558</td>\n",
       "      <td>0.054637</td>\n",
       "      <td>0.243700</td>\n",
       "      <td>-0.068351</td>\n",
       "      <td>-0.126545</td>\n",
       "      <td>-0.019802</td>\n",
       "      <td>-0.029512</td>\n",
       "      <td>0.020182</td>\n",
       "    </tr>\n",
       "    <tr>\n",
       "      <th>loan_asset_wt</th>\n",
       "      <td>-0.041015</td>\n",
       "      <td>-0.073789</td>\n",
       "      <td>1.000000</td>\n",
       "      <td>0.891538</td>\n",
       "      <td>0.791704</td>\n",
       "      <td>0.628456</td>\n",
       "      <td>0.007890</td>\n",
       "      <td>-0.009312</td>\n",
       "      <td>-0.002508</td>\n",
       "      <td>-0.048223</td>\n",
       "      <td>-0.055500</td>\n",
       "    </tr>\n",
       "    <tr>\n",
       "      <th>oca_wt</th>\n",
       "      <td>-0.016961</td>\n",
       "      <td>-0.043558</td>\n",
       "      <td>0.891538</td>\n",
       "      <td>1.000000</td>\n",
       "      <td>0.766291</td>\n",
       "      <td>0.619759</td>\n",
       "      <td>0.125408</td>\n",
       "      <td>0.248102</td>\n",
       "      <td>0.138619</td>\n",
       "      <td>-0.020949</td>\n",
       "      <td>-0.021556</td>\n",
       "    </tr>\n",
       "    <tr>\n",
       "      <th>roa_wt</th>\n",
       "      <td>-0.182427</td>\n",
       "      <td>0.054637</td>\n",
       "      <td>0.791704</td>\n",
       "      <td>0.766291</td>\n",
       "      <td>1.000000</td>\n",
       "      <td>0.604098</td>\n",
       "      <td>-0.300529</td>\n",
       "      <td>0.102660</td>\n",
       "      <td>-0.244524</td>\n",
       "      <td>-0.024215</td>\n",
       "      <td>-0.207244</td>\n",
       "    </tr>\n",
       "    <tr>\n",
       "      <th>liquidity_wt</th>\n",
       "      <td>-0.035320</td>\n",
       "      <td>0.243700</td>\n",
       "      <td>0.628456</td>\n",
       "      <td>0.619759</td>\n",
       "      <td>0.604098</td>\n",
       "      <td>1.000000</td>\n",
       "      <td>-0.146435</td>\n",
       "      <td>-0.098938</td>\n",
       "      <td>-0.110061</td>\n",
       "      <td>0.022970</td>\n",
       "      <td>0.011591</td>\n",
       "    </tr>\n",
       "    <tr>\n",
       "      <th>creditrisk_wt</th>\n",
       "      <td>0.384379</td>\n",
       "      <td>-0.068351</td>\n",
       "      <td>0.007890</td>\n",
       "      <td>0.125408</td>\n",
       "      <td>-0.300529</td>\n",
       "      <td>-0.146435</td>\n",
       "      <td>1.000000</td>\n",
       "      <td>0.231792</td>\n",
       "      <td>0.931284</td>\n",
       "      <td>0.053874</td>\n",
       "      <td>0.292793</td>\n",
       "    </tr>\n",
       "    <tr>\n",
       "      <th>diversification_wt</th>\n",
       "      <td>0.100639</td>\n",
       "      <td>-0.126545</td>\n",
       "      <td>-0.009312</td>\n",
       "      <td>0.248102</td>\n",
       "      <td>0.102660</td>\n",
       "      <td>-0.098938</td>\n",
       "      <td>0.231792</td>\n",
       "      <td>1.000000</td>\n",
       "      <td>0.252134</td>\n",
       "      <td>0.245459</td>\n",
       "      <td>0.001453</td>\n",
       "    </tr>\n",
       "    <tr>\n",
       "      <th>chargeoff_rate_wt</th>\n",
       "      <td>0.395274</td>\n",
       "      <td>-0.019802</td>\n",
       "      <td>-0.002508</td>\n",
       "      <td>0.138619</td>\n",
       "      <td>-0.244524</td>\n",
       "      <td>-0.110061</td>\n",
       "      <td>0.931284</td>\n",
       "      <td>0.252134</td>\n",
       "      <td>1.000000</td>\n",
       "      <td>0.071777</td>\n",
       "      <td>0.370003</td>\n",
       "    </tr>\n",
       "    <tr>\n",
       "      <th>income_msa</th>\n",
       "      <td>0.212615</td>\n",
       "      <td>-0.029512</td>\n",
       "      <td>-0.048223</td>\n",
       "      <td>-0.020949</td>\n",
       "      <td>-0.024215</td>\n",
       "      <td>0.022970</td>\n",
       "      <td>0.053874</td>\n",
       "      <td>0.245459</td>\n",
       "      <td>0.071777</td>\n",
       "      <td>1.000000</td>\n",
       "      <td>-0.006557</td>\n",
       "    </tr>\n",
       "    <tr>\n",
       "      <th>ur</th>\n",
       "      <td>0.224509</td>\n",
       "      <td>0.020182</td>\n",
       "      <td>-0.055500</td>\n",
       "      <td>-0.021556</td>\n",
       "      <td>-0.207244</td>\n",
       "      <td>0.011591</td>\n",
       "      <td>0.292793</td>\n",
       "      <td>0.001453</td>\n",
       "      <td>0.370003</td>\n",
       "      <td>-0.006557</td>\n",
       "      <td>1.000000</td>\n",
       "    </tr>\n",
       "  </tbody>\n",
       "</table>\n",
       "</div>"
      ],
      "text/plain": [
       "                     failure  tier1capital_wt  loan_asset_wt    oca_wt  \\\n",
       "failure             1.000000        -0.014277      -0.041015 -0.016961   \n",
       "tier1capital_wt    -0.014277         1.000000      -0.073789 -0.043558   \n",
       "loan_asset_wt      -0.041015        -0.073789       1.000000  0.891538   \n",
       "oca_wt             -0.016961        -0.043558       0.891538  1.000000   \n",
       "roa_wt             -0.182427         0.054637       0.791704  0.766291   \n",
       "liquidity_wt       -0.035320         0.243700       0.628456  0.619759   \n",
       "creditrisk_wt       0.384379        -0.068351       0.007890  0.125408   \n",
       "diversification_wt  0.100639        -0.126545      -0.009312  0.248102   \n",
       "chargeoff_rate_wt   0.395274        -0.019802      -0.002508  0.138619   \n",
       "income_msa          0.212615        -0.029512      -0.048223 -0.020949   \n",
       "ur                  0.224509         0.020182      -0.055500 -0.021556   \n",
       "\n",
       "                      roa_wt  liquidity_wt  creditrisk_wt  diversification_wt  \\\n",
       "failure            -0.182427     -0.035320       0.384379            0.100639   \n",
       "tier1capital_wt     0.054637      0.243700      -0.068351           -0.126545   \n",
       "loan_asset_wt       0.791704      0.628456       0.007890           -0.009312   \n",
       "oca_wt              0.766291      0.619759       0.125408            0.248102   \n",
       "roa_wt              1.000000      0.604098      -0.300529            0.102660   \n",
       "liquidity_wt        0.604098      1.000000      -0.146435           -0.098938   \n",
       "creditrisk_wt      -0.300529     -0.146435       1.000000            0.231792   \n",
       "diversification_wt  0.102660     -0.098938       0.231792            1.000000   \n",
       "chargeoff_rate_wt  -0.244524     -0.110061       0.931284            0.252134   \n",
       "income_msa         -0.024215      0.022970       0.053874            0.245459   \n",
       "ur                 -0.207244      0.011591       0.292793            0.001453   \n",
       "\n",
       "                    chargeoff_rate_wt  income_msa        ur  \n",
       "failure                      0.395274    0.212615  0.224509  \n",
       "tier1capital_wt             -0.019802   -0.029512  0.020182  \n",
       "loan_asset_wt               -0.002508   -0.048223 -0.055500  \n",
       "oca_wt                       0.138619   -0.020949 -0.021556  \n",
       "roa_wt                      -0.244524   -0.024215 -0.207244  \n",
       "liquidity_wt                -0.110061    0.022970  0.011591  \n",
       "creditrisk_wt                0.931284    0.053874  0.292793  \n",
       "diversification_wt           0.252134    0.245459  0.001453  \n",
       "chargeoff_rate_wt            1.000000    0.071777  0.370003  \n",
       "income_msa                   0.071777    1.000000 -0.006557  \n",
       "ur                           0.370003   -0.006557  1.000000  "
      ]
     },
     "execution_count": 3,
     "metadata": {},
     "output_type": "execute_result"
    }
   ],
   "source": [
    "data.corr(method='pearson', min_periods=1)"
   ]
  },
  {
   "cell_type": "markdown",
   "metadata": {},
   "source": [
    "## As we can see above there is high degrees of correlation between several pairs of variables, validating concerns of multicollinearity and hence overfitting."
   ]
  },
  {
   "cell_type": "code",
   "execution_count": 4,
   "metadata": {},
   "outputs": [],
   "source": [
    "Features = np.array(data[['tier1capital_wt', 'loan_asset_wt', 'oca_wt', 'roa_wt', 'liquidity_wt', 'creditrisk_wt', 'diversification_wt', 'chargeoff_rate_wt', 'income_msa', 'ur']])\n",
    "Labels =  np.array(data[['failure']])    "
   ]
  },
  {
   "cell_type": "markdown",
   "metadata": {},
   "source": [
    "## Now we will partition the dataset into training and test datasets. "
   ]
  },
  {
   "cell_type": "code",
   "execution_count": 5,
   "metadata": {},
   "outputs": [],
   "source": [
    "# Split the dataset into test and training set\n",
    "nr.seed(1115)\n",
    "indx = range(Features.shape[0])\n",
    "indx = ms.train_test_split(indx, test_size = 1820)\n",
    "X_train = Features[indx[0],:]\n",
    "y_train = np.ravel(Labels[indx[0]])\n",
    "X_test = Features[indx[1],:]\n",
    "y_test = np.ravel(Labels[indx[1]])"
   ]
  },
  {
   "cell_type": "markdown",
   "metadata": {},
   "source": [
    "## We apply the zscore standardization method here. "
   ]
  },
  {
   "cell_type": "code",
   "execution_count": 6,
   "metadata": {},
   "outputs": [],
   "source": [
    "scale = preprocessing.StandardScaler()\n",
    "scale.fit(X_train)\n",
    "X_train = scale.transform(X_train)"
   ]
  },
  {
   "cell_type": "markdown",
   "metadata": {},
   "source": [
    "## We compute a linear discriminant analysis with 3 components on the features of the training dataset. "
   ]
  },
  {
   "cell_type": "code",
   "execution_count": 39,
   "metadata": {},
   "outputs": [
    {
     "data": {
      "text/plain": [
       "(7276, 1)"
      ]
     },
     "execution_count": 39,
     "metadata": {},
     "output_type": "execute_result"
    }
   ],
   "source": [
    "LDA = LinearDiscriminantAnalysis(n_components=3)\n",
    "LDA.fit(X_train, y_train)\n",
    "Comps = LDA.transform(X_train)\n",
    "Comps.shape "
   ]
  },
  {
   "cell_type": "markdown",
   "metadata": {},
   "source": [
    "## Define and fit the logistic regression model. "
   ]
  },
  {
   "cell_type": "code",
   "execution_count": 16,
   "metadata": {},
   "outputs": [
    {
     "name": "stdout",
     "output_type": "stream",
     "text": [
      "[-3.0363729]\n",
      "[[1.02491949]]\n"
     ]
    },
    {
     "name": "stderr",
     "output_type": "stream",
     "text": [
      "C:\\Users\\Amit Ghosh.SFH-315-0605\\Anaconda3\\lib\\site-packages\\sklearn\\linear_model\\logistic.py:433: FutureWarning: Default solver will be changed to 'lbfgs' in 0.22. Specify a solver to silence this warning.\n",
      "  FutureWarning)\n"
     ]
    }
   ],
   "source": [
    "log_mod_3 = linear_model.LogisticRegression(C = 10.0, class_weight = {0:0.45, 1:0.55}) \n",
    "log_mod_3.fit(Comps, y_train)\n",
    "print(log_mod_3.intercept_)\n",
    "print(log_mod_3.coef_)"
   ]
  },
  {
   "cell_type": "markdown",
   "metadata": {},
   "source": [
    "## Evaluating the performance metrics of the model."
   ]
  },
  {
   "cell_type": "code",
   "execution_count": 17,
   "metadata": {},
   "outputs": [
    {
     "name": "stdout",
     "output_type": "stream",
     "text": [
      "                 Confusion matrix\n",
      "                 Score positive    Score negative\n",
      "Actual positive      1621                52\n",
      "Actual negative        85                62\n",
      "\n",
      "Accuracy        0.92\n",
      "AUC             0.90\n",
      "Macro precision 0.75\n",
      "Macro recall    0.70\n",
      " \n",
      "           Positive      Negative\n",
      "Num case     1673           147\n",
      "Precision    0.95          0.54\n",
      "Recall       0.97          0.42\n",
      "F1           0.96          0.48\n"
     ]
    },
    {
     "data": {
      "image/png": "[encoded data removed]",
      "text/plain": [
       "<Figure size 432x288 with 1 Axes>"
      ]
     },
     "metadata": {
      "needs_background": "light"
     },
     "output_type": "display_data"
    }
   ],
   "source": [
    "#Evaluate the model\n",
    "def score_model(probs, threshold):\n",
    "    return np.array([1 if x > threshold else 0 for x in probs[:,1]])\n",
    "\n",
    "def print_metrics(labels, probs, threshold):\n",
    "    scores = score_model(probs, threshold)\n",
    "    metrics = sklm.precision_recall_fscore_support(labels, scores)\n",
    "    conf = sklm.confusion_matrix(labels, scores)\n",
    "    print('                 Confusion matrix')\n",
    "    print('                 Score positive    Score negative')\n",
    "    print('Actual positive    %6d' % conf[0,0] + '             %5d' % conf[0,1])\n",
    "    print('Actual negative    %6d' % conf[1,0] + '             %5d' % conf[1,1])\n",
    "    print('')\n",
    "    print('Accuracy        %0.2f' % sklm.accuracy_score(labels, scores))\n",
    "    print('AUC             %0.2f' % sklm.roc_auc_score(labels, probs[:,1]))\n",
    "    print('Macro precision %0.2f' % float((float(metrics[0][0]) + float(metrics[0][1]))/2.0))\n",
    "    print('Macro recall    %0.2f' % float((float(metrics[1][0]) + float(metrics[1][1]))/2.0))\n",
    "    print(' ')\n",
    "    print('           Positive      Negative')\n",
    "    print('Num case   %6d' % metrics[3][0] + '        %6d' % metrics[3][1])\n",
    "    print('Precision  %6.2f' % metrics[0][0] + '        %6.2f' % metrics[0][1])\n",
    "    print('Recall     %6.2f' % metrics[1][0] + '        %6.2f' % metrics[1][1])\n",
    "    print('F1         %6.2f' % metrics[2][0] + '        %6.2f' % metrics[2][1])\n",
    "\n",
    "def plot_auc(labels, probs):\n",
    "    ## Compute the false positive rate, true positive rate\n",
    "    ## and threshold along with the AUC\n",
    "    fpr, tpr, threshold = sklm.roc_curve(labels, probs[:,1])\n",
    "    auc = sklm.auc(fpr, tpr)\n",
    "    \n",
    "    ## Plot the result\n",
    "    plt.title('Receiver Operating Characteristic')\n",
    "    plt.plot(fpr, tpr, color = 'orange', label = 'AUC = %0.2f' % auc)\n",
    "    plt.legend(loc = 'lower right')\n",
    "    plt.plot([0, 1], [0, 1],'r--')\n",
    "    plt.xlim([0, 1])\n",
    "    plt.ylim([0, 1])\n",
    "    plt.ylabel('True Positive Rate')\n",
    "    plt.xlabel('False Positive Rate')\n",
    "    plt.show()    \n",
    "\n",
    "probabilities = log_mod_3.predict_proba(LDA.transform(X_test))\n",
    "print_metrics(y_test, probabilities, 0.3)    \n",
    "plot_auc(y_test, probabilities)    "
   ]
  },
  {
   "cell_type": "markdown",
   "metadata": {},
   "source": [
    "## Next we do a LDA model with 5 components."
   ]
  },
  {
   "cell_type": "code",
   "execution_count": 32,
   "metadata": {},
   "outputs": [
    {
     "data": {
      "text/plain": [
       "(7276, 1)"
      ]
     },
     "execution_count": 32,
     "metadata": {},
     "output_type": "execute_result"
    }
   ],
   "source": [
    "LDA5 = LinearDiscriminantAnalysis(n_components=5)\n",
    "LDA5.fit(X_train, y_train)\n",
    "Comps = LDA5.transform(X_train)\n",
    "Comps.shape"
   ]
  },
  {
   "cell_type": "code",
   "execution_count": 33,
   "metadata": {},
   "outputs": [
    {
     "name": "stdout",
     "output_type": "stream",
     "text": [
      "[-3.0363729]\n",
      "[[1.02491949]]\n"
     ]
    },
    {
     "name": "stderr",
     "output_type": "stream",
     "text": [
      "C:\\Users\\Amit Ghosh.SFH-315-0605\\Anaconda3\\lib\\site-packages\\sklearn\\linear_model\\logistic.py:433: FutureWarning: Default solver will be changed to 'lbfgs' in 0.22. Specify a solver to silence this warning.\n",
      "  FutureWarning)\n"
     ]
    }
   ],
   "source": [
    "log_mod_5 = linear_model.LogisticRegression(C = 10.0, class_weight = {0:0.45, 1:0.55}) \n",
    "log_mod_5.fit(Comps, y_train)\n",
    "print(log_mod_5.intercept_)\n",
    "print(log_mod_5.coef_)"
   ]
  },
  {
   "cell_type": "code",
   "execution_count": 34,
   "metadata": {},
   "outputs": [
    {
     "name": "stdout",
     "output_type": "stream",
     "text": [
      "                 Confusion matrix\n",
      "                 Score positive    Score negative\n",
      "Actual positive      1621                52\n",
      "Actual negative        85                62\n",
      "\n",
      "Accuracy        0.92\n",
      "AUC             0.90\n",
      "Macro precision 0.75\n",
      "Macro recall    0.70\n",
      " \n",
      "           Positive      Negative\n",
      "Num case     1673           147\n",
      "Precision    0.95          0.54\n",
      "Recall       0.97          0.42\n",
      "F1           0.96          0.48\n"
     ]
    },
    {
     "data": {
      "image/png": "[encoded data removed]",
      "text/plain": [
       "<Figure size 432x288 with 1 Axes>"
      ]
     },
     "metadata": {
      "needs_background": "light"
     },
     "output_type": "display_data"
    }
   ],
   "source": [
    "probabilities = log_mod_5.predict_proba(LDA5.transform(X_test))\n",
    "print_metrics(y_test, probabilities, 0.3)  \n",
    "plot_auc(y_test, probabilities)"
   ]
  },
  {
   "cell_type": "markdown",
   "metadata": {},
   "source": [
    "## Overall, the performance metrics of the two models are the same. "
   ]
  }
 ],
 "metadata": {
  "kernelspec": {
   "display_name": "Python 3",
   "language": "python",
   "name": "python3"
  },
  "language_info": {
   "codemirror_mode": {
    "name": "ipython",
    "version": 3
   },
   "file_extension": ".py",
   "mimetype": "text/x-python",
   "name": "python",
   "nbconvert_exporter": "python",
   "pygments_lexer": "ipython3",
   "version": "3.7.3"
  }
 },
 "nbformat": 4,
 "nbformat_minor": 2
}
