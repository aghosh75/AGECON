{
 "cells": [
  {
   "cell_type": "markdown",
   "metadata": {},
   "source": [
    "## Applying an AdaBoost Model to classify and predict banking crisis.\n",
    "## A banking crisis is a situation when a country's banking sector is under considerable durress. This is typically measured by the share of poor quality loans, called non-performing loans, exceeding 10 percent of all loans given out by banks.\n",
    "## Banking crisis imposes significant economic and social costs for any nation. "
   ]
  },
  {
   "cell_type": "code",
   "execution_count": 35,
   "metadata": {},
   "outputs": [],
   "source": [
    "# Install the following packages\n",
    "\n",
    "from sklearn.ensemble import AdaBoostClassifier\n",
    "from sklearn import preprocessing\n",
    "from sklearn.model_selection import cross_validate\n",
    "import sklearn.model_selection as ms\n",
    "import sklearn.metrics as sklm\n",
    "import matplotlib.pyplot as plt\n",
    "import pandas as pd\n",
    "import numpy as np\n",
    "import numpy.random as nr\n",
    "import seaborn as sns  \n",
    "\n",
    "%matplotlib inline"
   ]
  },
  {
   "cell_type": "markdown",
   "metadata": {},
   "source": [
    "## Import the dataset."
   ]
  },
  {
   "cell_type": "code",
   "execution_count": 5,
   "metadata": {},
   "outputs": [
    {
     "name": "stdout",
     "output_type": "stream",
     "text": [
      "(200, 4)\n",
      "['BankingCrisisdummy', 'Population', 'GDP', 'ForeignBanks']\n"
     ]
    }
   ],
   "source": [
    "data = pd.read_csv('BankingCrisis.csv')\n",
    "data.head()\n",
    "data = data.dropna()\n",
    "print(data.shape)\n",
    "print(list(data.columns))"
   ]
  },
  {
   "cell_type": "code",
   "execution_count": 6,
   "metadata": {},
   "outputs": [
    {
     "data": {
      "text/html": [
       "<div>\n",
       "<style scoped>\n",
       "    .dataframe tbody tr th:only-of-type {\n",
       "        vertical-align: middle;\n",
       "    }\n",
       "\n",
       "    .dataframe tbody tr th {\n",
       "        vertical-align: top;\n",
       "    }\n",
       "\n",
       "    .dataframe thead th {\n",
       "        text-align: right;\n",
       "    }\n",
       "</style>\n",
       "<table border=\"1\" class=\"dataframe\">\n",
       "  <thead>\n",
       "    <tr style=\"text-align: right;\">\n",
       "      <th></th>\n",
       "      <th>BankingCrisisdummy</th>\n",
       "      <th>Population</th>\n",
       "      <th>GDP</th>\n",
       "      <th>ForeignBanks</th>\n",
       "    </tr>\n",
       "  </thead>\n",
       "  <tbody>\n",
       "    <tr>\n",
       "      <th>0</th>\n",
       "      <td>0</td>\n",
       "      <td>10634385</td>\n",
       "      <td>1.712182e+11</td>\n",
       "      <td>14.0</td>\n",
       "    </tr>\n",
       "    <tr>\n",
       "      <th>1</th>\n",
       "      <td>0</td>\n",
       "      <td>10709173</td>\n",
       "      <td>1.761187e+11</td>\n",
       "      <td>14.0</td>\n",
       "    </tr>\n",
       "    <tr>\n",
       "      <th>2</th>\n",
       "      <td>0</td>\n",
       "      <td>10776504</td>\n",
       "      <td>1.840162e+11</td>\n",
       "      <td>7.0</td>\n",
       "    </tr>\n",
       "    <tr>\n",
       "      <th>3</th>\n",
       "      <td>1</td>\n",
       "      <td>10834880</td>\n",
       "      <td>1.911835e+11</td>\n",
       "      <td>7.0</td>\n",
       "    </tr>\n",
       "    <tr>\n",
       "      <th>4</th>\n",
       "      <td>1</td>\n",
       "      <td>10882580</td>\n",
       "      <td>1.970578e+11</td>\n",
       "      <td>8.0</td>\n",
       "    </tr>\n",
       "  </tbody>\n",
       "</table>\n",
       "</div>"
      ],
      "text/plain": [
       "   BankingCrisisdummy  Population           GDP  ForeignBanks\n",
       "0                   0    10634385  1.712182e+11          14.0\n",
       "1                   0    10709173  1.761187e+11          14.0\n",
       "2                   0    10776504  1.840162e+11           7.0\n",
       "3                   1    10834880  1.911835e+11           7.0\n",
       "4                   1    10882580  1.970578e+11           8.0"
      ]
     },
     "execution_count": 6,
     "metadata": {},
     "output_type": "execute_result"
    }
   ],
   "source": [
    "data.head()"
   ]
  },
  {
   "cell_type": "markdown",
   "metadata": {},
   "source": [
    "## Display the data and types of each column"
   ]
  },
  {
   "cell_type": "code",
   "execution_count": 7,
   "metadata": {},
   "outputs": [
    {
     "data": {
      "text/plain": [
       "BankingCrisisdummy      int64\n",
       "Population              int64\n",
       "GDP                   float64\n",
       "ForeignBanks          float64\n",
       "dtype: object"
      ]
     },
     "execution_count": 7,
     "metadata": {},
     "output_type": "execute_result"
    }
   ],
   "source": [
    "data.dtypes"
   ]
  },
  {
   "cell_type": "markdown",
   "metadata": {},
   "source": [
    "## Show descriptive statistics"
   ]
  },
  {
   "cell_type": "code",
   "execution_count": 8,
   "metadata": {},
   "outputs": [
    {
     "data": {
      "text/html": [
       "<div>\n",
       "<style scoped>\n",
       "    .dataframe tbody tr th:only-of-type {\n",
       "        vertical-align: middle;\n",
       "    }\n",
       "\n",
       "    .dataframe tbody tr th {\n",
       "        vertical-align: top;\n",
       "    }\n",
       "\n",
       "    .dataframe thead th {\n",
       "        text-align: right;\n",
       "    }\n",
       "</style>\n",
       "<table border=\"1\" class=\"dataframe\">\n",
       "  <thead>\n",
       "    <tr style=\"text-align: right;\">\n",
       "      <th></th>\n",
       "      <th>BankingCrisisdummy</th>\n",
       "      <th>Population</th>\n",
       "      <th>GDP</th>\n",
       "      <th>ForeignBanks</th>\n",
       "    </tr>\n",
       "  </thead>\n",
       "  <tbody>\n",
       "    <tr>\n",
       "      <th>count</th>\n",
       "      <td>200.000000</td>\n",
       "      <td>2.000000e+02</td>\n",
       "      <td>2.000000e+02</td>\n",
       "      <td>200.000000</td>\n",
       "    </tr>\n",
       "    <tr>\n",
       "      <th>mean</th>\n",
       "      <td>0.140000</td>\n",
       "      <td>2.617910e+07</td>\n",
       "      <td>6.514968e+11</td>\n",
       "      <td>20.695250</td>\n",
       "    </tr>\n",
       "    <tr>\n",
       "      <th>std</th>\n",
       "      <td>0.347858</td>\n",
       "      <td>2.587160e+07</td>\n",
       "      <td>9.574462e+11</td>\n",
       "      <td>19.698149</td>\n",
       "    </tr>\n",
       "    <tr>\n",
       "      <th>min</th>\n",
       "      <td>0.000000</td>\n",
       "      <td>2.689160e+05</td>\n",
       "      <td>7.894197e+09</td>\n",
       "      <td>0.000000</td>\n",
       "    </tr>\n",
       "    <tr>\n",
       "      <th>25%</th>\n",
       "      <td>0.000000</td>\n",
       "      <td>5.754750e+06</td>\n",
       "      <td>4.002463e+10</td>\n",
       "      <td>6.000000</td>\n",
       "    </tr>\n",
       "    <tr>\n",
       "      <th>50%</th>\n",
       "      <td>0.000000</td>\n",
       "      <td>1.112558e+07</td>\n",
       "      <td>1.814288e+11</td>\n",
       "      <td>14.000000</td>\n",
       "    </tr>\n",
       "    <tr>\n",
       "      <th>75%</th>\n",
       "      <td>0.000000</td>\n",
       "      <td>4.113480e+07</td>\n",
       "      <td>9.893152e+11</td>\n",
       "      <td>30.000000</td>\n",
       "    </tr>\n",
       "    <tr>\n",
       "      <th>max</th>\n",
       "      <td>1.000000</td>\n",
       "      <td>8.253418e+07</td>\n",
       "      <td>3.175998e+12</td>\n",
       "      <td>82.000000</td>\n",
       "    </tr>\n",
       "  </tbody>\n",
       "</table>\n",
       "</div>"
      ],
      "text/plain": [
       "       BankingCrisisdummy    Population           GDP  ForeignBanks\n",
       "count          200.000000  2.000000e+02  2.000000e+02    200.000000\n",
       "mean             0.140000  2.617910e+07  6.514968e+11     20.695250\n",
       "std              0.347858  2.587160e+07  9.574462e+11     19.698149\n",
       "min              0.000000  2.689160e+05  7.894197e+09      0.000000\n",
       "25%              0.000000  5.754750e+06  4.002463e+10      6.000000\n",
       "50%              0.000000  1.112558e+07  1.814288e+11     14.000000\n",
       "75%              0.000000  4.113480e+07  9.893152e+11     30.000000\n",
       "max              1.000000  8.253418e+07  3.175998e+12     82.000000"
      ]
     },
     "execution_count": 8,
     "metadata": {},
     "output_type": "execute_result"
    }
   ],
   "source": [
    "data.describe()   "
   ]
  },
  {
   "cell_type": "markdown",
   "metadata": {},
   "source": [
    "## Show counts of Banking crisis and no crisis episodes"
   ]
  },
  {
   "cell_type": "code",
   "execution_count": 11,
   "metadata": {},
   "outputs": [
    {
     "data": {
      "text/plain": [
       "<matplotlib.axes._subplots.AxesSubplot at 0x266a43c40f0>"
      ]
     },
     "execution_count": 11,
     "metadata": {},
     "output_type": "execute_result"
    },
    {
     "data": {
      "image/png": "[encoded data removed]",
      "text/plain": [
       "<Figure size 432x288 with 1 Axes>"
      ]
     },
     "metadata": {
      "needs_background": "light"
     },
     "output_type": "display_data"
    }
   ],
   "source": [
    "sns.countplot(x = 'BankingCrisisdummy', data = data)  "
   ]
  },
  {
   "cell_type": "markdown",
   "metadata": {},
   "source": [
    "## Next we create a numpy array of the features and label."
   ]
  },
  {
   "cell_type": "code",
   "execution_count": 12,
   "metadata": {},
   "outputs": [],
   "source": [
    "Features = np.array(data[['Population', 'GDP', 'ForeignBanks']])\n",
    "Labels =  np.array(data[['BankingCrisisdummy']])  "
   ]
  },
  {
   "cell_type": "code",
   "execution_count": 13,
   "metadata": {},
   "outputs": [],
   "source": [
    "# Split the dataset into test and training set\n",
    "nr.seed(1115)\n",
    "indx = range(Features.shape[0])\n",
    "indx = ms.train_test_split(indx, test_size = 160)\n",
    "X_train = Features[indx[0],:]\n",
    "y_train = np.ravel(Labels[indx[0]])\n",
    "X_test = Features[indx[1],:]\n",
    "y_test = np.ravel(Labels[indx[1]])"
   ]
  },
  {
   "cell_type": "code",
   "execution_count": 14,
   "metadata": {},
   "outputs": [],
   "source": [
    "scale = preprocessing.StandardScaler()\n",
    "scale.fit(X_train)\n",
    "X_train = scale.transform(X_train)"
   ]
  },
  {
   "cell_type": "markdown",
   "metadata": {},
   "source": [
    "## Define and fit an AdaBoost tree model."
   ]
  },
  {
   "cell_type": "code",
   "execution_count": 15,
   "metadata": {},
   "outputs": [
    {
     "data": {
      "text/plain": [
       "AdaBoostClassifier(algorithm='SAMME.R', base_estimator=None,\n",
       "          learning_rate=1.0, n_estimators=50, random_state=None)"
      ]
     },
     "execution_count": 15,
     "metadata": {},
     "output_type": "execute_result"
    }
   ],
   "source": [
    "# Fit the model with 100 estimators (trees) using the AdaBoostClassifer function from the Scikit Learn ensemble package.\n",
    "\n",
    "nr.seed(1115)\n",
    "ab_clf = AdaBoostClassifier()\n",
    "ab_clf.fit(X_train, y_train)"
   ]
  },
  {
   "cell_type": "markdown",
   "metadata": {},
   "source": [
    "## Next we score the test data subset.\n",
    "## The test features are scaled using the scaler computed for the training features. Then the predict method is used to compute the scores from the scaled features. "
   ]
  },
  {
   "cell_type": "code",
   "execution_count": 16,
   "metadata": {},
   "outputs": [],
   "source": [
    "X_test = scale.transform(X_test)\n",
    "scores = ab_clf.predict(X_test)"
   ]
  },
  {
   "cell_type": "code",
   "execution_count": 21,
   "metadata": {},
   "outputs": [
    {
     "name": "stdout",
     "output_type": "stream",
     "text": [
      "                 Confusion matrix\n",
      "                  Score No Crisis   Score Crisis    \n",
      "Actual No Crisis         133                6\n",
      "Actual Crisis              5               16\n",
      "\n",
      "Accuracy        0.93\n",
      " \n",
      "          No Crisis  Crisis  \n",
      "Num case    139.00     21.00\n",
      "Precision   0.96      0.73\n",
      "Recall      0.96      0.76\n",
      "F1          0.96      0.74\n"
     ]
    }
   ],
   "source": [
    "def print_metrics_3(labels, scores):\n",
    "   \n",
    "    conf = sklm.confusion_matrix(labels, scores)\n",
    "    print('                 Confusion matrix')\n",
    "    print('                  Score No Crisis   Score Crisis    ')\n",
    "    print('Actual No Crisis      %6d' % conf[0,0] + '            %5d' % conf[0,1]   )            \n",
    "    print('Actual Crisis         %6d' % conf[1,0] + '            %5d' % conf[1,1]   )\n",
    "        ## Now compute and display the accuracy and metrics\n",
    "    print('')\n",
    "    print('Accuracy        %0.2f' % sklm.accuracy_score(labels, scores))\n",
    "    metrics = sklm.precision_recall_fscore_support(labels, scores)\n",
    "    print(' ')\n",
    "    print('          No Crisis  Crisis  ')\n",
    "    print('Num case    %0.2f' % metrics[3][0] + '     %0.2f' % metrics[3][1]         )\n",
    "    print('Precision   %0.2f' % metrics[0][0] + '      %0.2f' % metrics[0][1]        )\n",
    "    print('Recall      %0.2f' % metrics[1][0] + '      %0.2f' % metrics[1][1]        )\n",
    "    print('F1          %0.2f' % metrics[2][0] + '      %0.2f' % metrics[2][1]        ) \n",
    "    \n",
    "print_metrics_3(y_test, scores)"
   ]
  },
  {
   "cell_type": "code",
   "execution_count": 26,
   "metadata": {},
   "outputs": [
    {
     "data": {
      "image/png": "[encoded data removed]",
      "text/plain": [
       "<Figure size 864x864 with 4 Axes>"
      ]
     },
     "metadata": {
      "needs_background": "light"
     },
     "output_type": "display_data"
    }
   ],
   "source": [
    "# Displays a set of plots showing correctly (as '+') and incorrectly (as 'o') cases\n",
    "\n",
    "def plot_data_score(data, y_test, scores):\n",
    "    '''Function to plot data data by type'''\n",
    "    ## Find correctly and incorrectly classified cases\n",
    "    true = np.equal(scores, y_test).astype(int)\n",
    "    \n",
    "    ## Create data frame from the test data\n",
    "    data = pd.DataFrame(data)\n",
    "    levels = {0:'No Crisis', 1:'Crisis'}\n",
    "    data['BankingCrisisdummy'] = [levels[x] for x in y_test]\n",
    "    data.columns = ['Population', 'GDP', 'ForeignBanks', 'BankingCrisisdummy']\n",
    "    \n",
    "    ## Set up for the plot\n",
    "    fig, ax = plt.subplots(2, 2, figsize=(12,12))\n",
    "    markers = ['o', '+']\n",
    "    x_ax = ['Population', 'GDP']\n",
    "    y_ax = ['Population', 'ForeignBanks']\n",
    "    \n",
    "    for t in range(2): # loop over correct and incorect classifications\n",
    "        NoCrisis = data[(data['BankingCrisisdummy'] == 'No Crisis') & (true == t)]\n",
    "        Crisis = data[(data['BankingCrisisdummy'] == 'Crisis') & (true == t)]\n",
    "        \n",
    "        # loop over all the dimensions\n",
    "        for i in range(2):\n",
    "            for j in range(2):\n",
    "                ax[i,j].scatter(NoCrisis[x_ax[i]], NoCrisis[y_ax[j]], marker = markers[t], color = 'blue')\n",
    "                ax[i,j].scatter(Crisis[x_ax[i]], Crisis[y_ax[j]], marker = markers[t], color = 'orange')\n",
    "                ax[i,j].set_xlabel(x_ax[i])\n",
    "                ax[i,j].set_ylabel(y_ax[j])\n",
    "\n",
    "plot_data_score(X_test, y_test, scores)"
   ]
  },
  {
   "cell_type": "markdown",
   "metadata": {},
   "source": [
    "## Now we will check for feature importance and then display its plot"
   ]
  },
  {
   "cell_type": "code",
   "execution_count": 27,
   "metadata": {},
   "outputs": [
    {
     "data": {
      "text/plain": [
       "Text(0, 0.5, 'Feature importance')"
      ]
     },
     "execution_count": 27,
     "metadata": {},
     "output_type": "execute_result"
    },
    {
     "data": {
      "image/png": "[encoded data removed]",
      "text/plain": [
       "<Figure size 432x288 with 1 Axes>"
      ]
     },
     "metadata": {
      "needs_background": "light"
     },
     "output_type": "display_data"
    }
   ],
   "source": [
    "# Display a plot of the feature importance\n",
    "\n",
    "importance = ab_clf.feature_importances_\n",
    "plt.bar(range(3), importance, tick_label = ['Population', 'GDP', 'ForeignBanks'])\n",
    "plt.xticks(rotation=90)\n",
    "plt.ylabel('Feature importance')"
   ]
  },
  {
   "cell_type": "markdown",
   "metadata": {},
   "source": [
    "## Next we create a model with a reduced feature set by dropping the share of foreign banks and compare the results. "
   ]
  },
  {
   "cell_type": "code",
   "execution_count": 29,
   "metadata": {},
   "outputs": [],
   "source": [
    "# As a first step, e create training and test datasets using the reduced features.\n",
    "\n",
    "## Create reduced feature set\n",
    "Features = np.array(data[['Population', 'GDP']])\n",
    "\n",
    "## Randomly sample cases to create independent training and test data\n",
    "nr.seed(1115)\n",
    "indx = range(Features.shape[0])\n",
    "indx = ms.train_test_split(indx, test_size = 160)\n",
    "X_train = Features[indx[0],:]\n",
    "y_train = np.ravel(Labels[indx[0]])\n",
    "X_test = Features[indx[1],:]\n",
    "y_test = np.ravel(Labels[indx[1]])"
   ]
  },
  {
   "cell_type": "markdown",
   "metadata": {},
   "source": [
    "## Next we define this model with reduced features, fit the model, score the model and print the results. "
   ]
  },
  {
   "cell_type": "code",
   "execution_count": 30,
   "metadata": {},
   "outputs": [
    {
     "name": "stdout",
     "output_type": "stream",
     "text": [
      "                 Confusion matrix\n",
      "                  Score No Crisis   Score Crisis    \n",
      "Actual No Crisis         132                7\n",
      "Actual Crisis              5               16\n",
      "\n",
      "Accuracy        0.93\n",
      " \n",
      "          No Crisis  Crisis  \n",
      "Num case    139.00     21.00\n",
      "Precision   0.96      0.70\n",
      "Recall      0.95      0.76\n",
      "F1          0.96      0.73\n"
     ]
    }
   ],
   "source": [
    "nr.seed(1115)\n",
    "ab_clf = AdaBoostClassifier()\n",
    "ab_clf.fit(X_train, y_train)\n",
    "scores = ab_clf.predict(X_test)\n",
    "print_metrics_3(y_test, scores)"
   ]
  },
  {
   "cell_type": "markdown",
   "metadata": {},
   "source": [
    "## Dropping one feature does not improve the model."
   ]
  }
 ],
 "metadata": {
  "kernelspec": {
   "display_name": "Python 3",
   "language": "python",
   "name": "python3"
  },
  "language_info": {
   "codemirror_mode": {
    "name": "ipython",
    "version": 3
   },
   "file_extension": ".py",
   "mimetype": "text/x-python",
   "name": "python",
   "nbconvert_exporter": "python",
   "pygments_lexer": "ipython3",
   "version": "3.7.3"
  }
 },
 "nbformat": 4,
 "nbformat_minor": 2
}
