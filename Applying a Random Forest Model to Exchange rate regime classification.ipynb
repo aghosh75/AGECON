{
 "cells": [
  {
   "cell_type": "markdown",
   "metadata": {},
   "source": [
    "## We will use a Random frest Model to explain exchange rate regime classification. Our label excange rate regimes, has three categories 0 -- for flexible regimes, 1 for intermediate regimes and 2 for fixed regimes. \n",
    "## There are seven different features -- trade openess, export concentration, capital controls index, land area, population, and institutional quaility."
   ]
  },
  {
   "cell_type": "code",
   "execution_count": 6,
   "metadata": {},
   "outputs": [],
   "source": [
    "## Randome Forest Model\n",
    "from sklearn.ensemble import RandomForestClassifier\n",
    "from sklearn import preprocessing\n",
    "#from statsmodels.api import datasets\n",
    "from sklearn import datasets ## Get dataset from sklearn\n",
    "import sklearn.model_selection as ms\n",
    "import sklearn.metrics as sklm\n",
    "import matplotlib.pyplot as plt\n",
    "import pandas as pd\n",
    "import numpy as np\n",
    "import numpy.random as nr\n",
    "import seaborn as sns  \n",
    "\n",
    "%matplotlib inline"
   ]
  },
  {
   "cell_type": "markdown",
   "metadata": {},
   "source": [
    "## Import the dataset"
   ]
  },
  {
   "cell_type": "code",
   "execution_count": 2,
   "metadata": {},
   "outputs": [
    {
     "name": "stdout",
     "output_type": "stream",
     "text": [
      "(1781, 7)\n",
      "['Regime1', 'TradeOpenness_Ghosh', 'ExportConcentration', 'AREAERcapitalcontrolsindex', 'Landarea ', 'Population', 'IQ']\n"
     ]
    }
   ],
   "source": [
    "data = pd.read_csv('Data.csv')\n",
    "data.head()\n",
    "data = data.dropna()\n",
    "print(data.shape)\n",
    "print(list(data.columns)) "
   ]
  },
  {
   "cell_type": "code",
   "execution_count": 3,
   "metadata": {},
   "outputs": [
    {
     "data": {
      "text/html": [
       "<div>\n",
       "<style scoped>\n",
       "    .dataframe tbody tr th:only-of-type {\n",
       "        vertical-align: middle;\n",
       "    }\n",
       "\n",
       "    .dataframe tbody tr th {\n",
       "        vertical-align: top;\n",
       "    }\n",
       "\n",
       "    .dataframe thead th {\n",
       "        text-align: right;\n",
       "    }\n",
       "</style>\n",
       "<table border=\"1\" class=\"dataframe\">\n",
       "  <thead>\n",
       "    <tr style=\"text-align: right;\">\n",
       "      <th></th>\n",
       "      <th>Regime1</th>\n",
       "      <th>TradeOpenness_Ghosh</th>\n",
       "      <th>ExportConcentration</th>\n",
       "      <th>AREAERcapitalcontrolsindex</th>\n",
       "      <th>Landarea</th>\n",
       "      <th>Population</th>\n",
       "      <th>IQ</th>\n",
       "    </tr>\n",
       "  </thead>\n",
       "  <tbody>\n",
       "    <tr>\n",
       "      <th>0</th>\n",
       "      <td>0</td>\n",
       "      <td>0.090000</td>\n",
       "      <td>0.530967</td>\n",
       "      <td>1.000000</td>\n",
       "      <td>652230</td>\n",
       "      <td>25215251.86</td>\n",
       "      <td>-2.096063</td>\n",
       "    </tr>\n",
       "    <tr>\n",
       "      <th>1</th>\n",
       "      <td>0</td>\n",
       "      <td>0.067000</td>\n",
       "      <td>0.429394</td>\n",
       "      <td>1.000000</td>\n",
       "      <td>652230</td>\n",
       "      <td>25950815.50</td>\n",
       "      <td>-2.123715</td>\n",
       "    </tr>\n",
       "    <tr>\n",
       "      <th>2</th>\n",
       "      <td>0</td>\n",
       "      <td>0.110000</td>\n",
       "      <td>0.510389</td>\n",
       "      <td>0.857143</td>\n",
       "      <td>652230</td>\n",
       "      <td>26697430.19</td>\n",
       "      <td>-2.123715</td>\n",
       "    </tr>\n",
       "    <tr>\n",
       "      <th>3</th>\n",
       "      <td>0</td>\n",
       "      <td>0.078003</td>\n",
       "      <td>0.555533</td>\n",
       "      <td>0.857143</td>\n",
       "      <td>652230</td>\n",
       "      <td>27465525.27</td>\n",
       "      <td>-1.748382</td>\n",
       "    </tr>\n",
       "    <tr>\n",
       "      <th>4</th>\n",
       "      <td>0</td>\n",
       "      <td>0.108290</td>\n",
       "      <td>0.560161</td>\n",
       "      <td>0.857143</td>\n",
       "      <td>652230</td>\n",
       "      <td>28255718.73</td>\n",
       "      <td>-1.571232</td>\n",
       "    </tr>\n",
       "  </tbody>\n",
       "</table>\n",
       "</div>"
      ],
      "text/plain": [
       "   Regime1  TradeOpenness_Ghosh  ExportConcentration  \\\n",
       "0        0             0.090000             0.530967   \n",
       "1        0             0.067000             0.429394   \n",
       "2        0             0.110000             0.510389   \n",
       "3        0             0.078003             0.555533   \n",
       "4        0             0.108290             0.560161   \n",
       "\n",
       "   AREAERcapitalcontrolsindex  Landarea    Population        IQ  \n",
       "0                    1.000000     652230  25215251.86 -2.096063  \n",
       "1                    1.000000     652230  25950815.50 -2.123715  \n",
       "2                    0.857143     652230  26697430.19 -2.123715  \n",
       "3                    0.857143     652230  27465525.27 -1.748382  \n",
       "4                    0.857143     652230  28255718.73 -1.571232  "
      ]
     },
     "execution_count": 3,
     "metadata": {},
     "output_type": "execute_result"
    }
   ],
   "source": [
    "data.head()"
   ]
  },
  {
   "cell_type": "markdown",
   "metadata": {},
   "source": [
    "## Display the data types of each column: "
   ]
  },
  {
   "cell_type": "code",
   "execution_count": 4,
   "metadata": {},
   "outputs": [
    {
     "data": {
      "text/plain": [
       "Regime1                         int64\n",
       "TradeOpenness_Ghosh           float64\n",
       "ExportConcentration           float64\n",
       "AREAERcapitalcontrolsindex    float64\n",
       "Landarea                        int64\n",
       "Population                    float64\n",
       "IQ                            float64\n",
       "dtype: object"
      ]
     },
     "execution_count": 4,
     "metadata": {},
     "output_type": "execute_result"
    }
   ],
   "source": [
    "data.dtypes"
   ]
  },
  {
   "cell_type": "markdown",
   "metadata": {},
   "source": [
    "##  Shows summary statistics"
   ]
  },
  {
   "cell_type": "code",
   "execution_count": 5,
   "metadata": {},
   "outputs": [
    {
     "data": {
      "text/html": [
       "<div>\n",
       "<style scoped>\n",
       "    .dataframe tbody tr th:only-of-type {\n",
       "        vertical-align: middle;\n",
       "    }\n",
       "\n",
       "    .dataframe tbody tr th {\n",
       "        vertical-align: top;\n",
       "    }\n",
       "\n",
       "    .dataframe thead th {\n",
       "        text-align: right;\n",
       "    }\n",
       "</style>\n",
       "<table border=\"1\" class=\"dataframe\">\n",
       "  <thead>\n",
       "    <tr style=\"text-align: right;\">\n",
       "      <th></th>\n",
       "      <th>Regime1</th>\n",
       "      <th>TradeOpenness_Ghosh</th>\n",
       "      <th>ExportConcentration</th>\n",
       "      <th>AREAERcapitalcontrolsindex</th>\n",
       "      <th>Landarea</th>\n",
       "      <th>Population</th>\n",
       "      <th>IQ</th>\n",
       "    </tr>\n",
       "  </thead>\n",
       "  <tbody>\n",
       "    <tr>\n",
       "      <th>count</th>\n",
       "      <td>1781.000000</td>\n",
       "      <td>1781.000000</td>\n",
       "      <td>1781.000000</td>\n",
       "      <td>1781.000000</td>\n",
       "      <td>1.781000e+03</td>\n",
       "      <td>1.781000e+03</td>\n",
       "      <td>1781.000000</td>\n",
       "    </tr>\n",
       "    <tr>\n",
       "      <th>mean</th>\n",
       "      <td>0.935430</td>\n",
       "      <td>0.452957</td>\n",
       "      <td>0.463238</td>\n",
       "      <td>0.610537</td>\n",
       "      <td>8.539492e+05</td>\n",
       "      <td>4.531053e+07</td>\n",
       "      <td>-0.060201</td>\n",
       "    </tr>\n",
       "    <tr>\n",
       "      <th>std</th>\n",
       "      <td>0.918467</td>\n",
       "      <td>1.361444</td>\n",
       "      <td>0.179901</td>\n",
       "      <td>2.255836</td>\n",
       "      <td>2.145751e+06</td>\n",
       "      <td>1.525174e+08</td>\n",
       "      <td>0.844529</td>\n",
       "    </tr>\n",
       "    <tr>\n",
       "      <th>min</th>\n",
       "      <td>0.000000</td>\n",
       "      <td>0.000002</td>\n",
       "      <td>0.002305</td>\n",
       "      <td>0.000000</td>\n",
       "      <td>2.600000e+02</td>\n",
       "      <td>4.226000e+04</td>\n",
       "      <td>-2.123715</td>\n",
       "    </tr>\n",
       "    <tr>\n",
       "      <th>25%</th>\n",
       "      <td>0.000000</td>\n",
       "      <td>0.207335</td>\n",
       "      <td>0.346084</td>\n",
       "      <td>0.277778</td>\n",
       "      <td>4.000000e+04</td>\n",
       "      <td>3.060554e+06</td>\n",
       "      <td>-0.665993</td>\n",
       "    </tr>\n",
       "    <tr>\n",
       "      <th>50%</th>\n",
       "      <td>1.000000</td>\n",
       "      <td>0.332467</td>\n",
       "      <td>0.441190</td>\n",
       "      <td>0.611111</td>\n",
       "      <td>1.836400e+05</td>\n",
       "      <td>8.860760e+06</td>\n",
       "      <td>-0.220199</td>\n",
       "    </tr>\n",
       "    <tr>\n",
       "      <th>75%</th>\n",
       "      <td>2.000000</td>\n",
       "      <td>0.534878</td>\n",
       "      <td>0.567919</td>\n",
       "      <td>0.833333</td>\n",
       "      <td>6.535400e+05</td>\n",
       "      <td>2.825572e+07</td>\n",
       "      <td>0.527391</td>\n",
       "    </tr>\n",
       "    <tr>\n",
       "      <th>max</th>\n",
       "      <td>2.000000</td>\n",
       "      <td>56.000000</td>\n",
       "      <td>1.655546</td>\n",
       "      <td>95.000000</td>\n",
       "      <td>1.638851e+07</td>\n",
       "      <td>1.344130e+09</td>\n",
       "      <td>1.912013</td>\n",
       "    </tr>\n",
       "  </tbody>\n",
       "</table>\n",
       "</div>"
      ],
      "text/plain": [
       "           Regime1  TradeOpenness_Ghosh  ExportConcentration  \\\n",
       "count  1781.000000          1781.000000          1781.000000   \n",
       "mean      0.935430             0.452957             0.463238   \n",
       "std       0.918467             1.361444             0.179901   \n",
       "min       0.000000             0.000002             0.002305   \n",
       "25%       0.000000             0.207335             0.346084   \n",
       "50%       1.000000             0.332467             0.441190   \n",
       "75%       2.000000             0.534878             0.567919   \n",
       "max       2.000000            56.000000             1.655546   \n",
       "\n",
       "       AREAERcapitalcontrolsindex     Landarea     Population           IQ  \n",
       "count                 1781.000000  1.781000e+03  1.781000e+03  1781.000000  \n",
       "mean                     0.610537  8.539492e+05  4.531053e+07    -0.060201  \n",
       "std                      2.255836  2.145751e+06  1.525174e+08     0.844529  \n",
       "min                      0.000000  2.600000e+02  4.226000e+04    -2.123715  \n",
       "25%                      0.277778  4.000000e+04  3.060554e+06    -0.665993  \n",
       "50%                      0.611111  1.836400e+05  8.860760e+06    -0.220199  \n",
       "75%                      0.833333  6.535400e+05  2.825572e+07     0.527391  \n",
       "max                     95.000000  1.638851e+07  1.344130e+09     1.912013  "
      ]
     },
     "execution_count": 5,
     "metadata": {},
     "output_type": "execute_result"
    }
   ],
   "source": [
    "data.describe()   "
   ]
  },
  {
   "cell_type": "markdown",
   "metadata": {},
   "source": [
    "## To get the count of the tree different regime categories"
   ]
  },
  {
   "cell_type": "code",
   "execution_count": 7,
   "metadata": {},
   "outputs": [
    {
     "data": {
      "text/plain": [
       "<matplotlib.axes._subplots.AxesSubplot at 0x18c02259eb8>"
      ]
     },
     "execution_count": 7,
     "metadata": {},
     "output_type": "execute_result"
    },
    {
     "data": {
      "image/png": "[encoded data removed]",
      "text/plain": [
       "<Figure size 432x288 with 1 Axes>"
      ]
     },
     "metadata": {
      "needs_background": "light"
     },
     "output_type": "display_data"
    }
   ],
   "source": [
    "sns.countplot(x = 'Regime1', data = data)  "
   ]
  },
  {
   "cell_type": "markdown",
   "metadata": {},
   "source": [
    "## Pairwise correlations among all variables "
   ]
  },
  {
   "cell_type": "code",
   "execution_count": 8,
   "metadata": {},
   "outputs": [
    {
     "data": {
      "text/html": [
       "<div>\n",
       "<style scoped>\n",
       "    .dataframe tbody tr th:only-of-type {\n",
       "        vertical-align: middle;\n",
       "    }\n",
       "\n",
       "    .dataframe tbody tr th {\n",
       "        vertical-align: top;\n",
       "    }\n",
       "\n",
       "    .dataframe thead th {\n",
       "        text-align: right;\n",
       "    }\n",
       "</style>\n",
       "<table border=\"1\" class=\"dataframe\">\n",
       "  <thead>\n",
       "    <tr style=\"text-align: right;\">\n",
       "      <th></th>\n",
       "      <th>Regime1</th>\n",
       "      <th>TradeOpenness_Ghosh</th>\n",
       "      <th>ExportConcentration</th>\n",
       "      <th>AREAERcapitalcontrolsindex</th>\n",
       "      <th>Landarea</th>\n",
       "      <th>Population</th>\n",
       "      <th>IQ</th>\n",
       "    </tr>\n",
       "  </thead>\n",
       "  <tbody>\n",
       "    <tr>\n",
       "      <th>Regime1</th>\n",
       "      <td>1.000000</td>\n",
       "      <td>0.060855</td>\n",
       "      <td>0.041785</td>\n",
       "      <td>0.047550</td>\n",
       "      <td>-0.185509</td>\n",
       "      <td>-0.105607</td>\n",
       "      <td>-0.044149</td>\n",
       "    </tr>\n",
       "    <tr>\n",
       "      <th>TradeOpenness_Ghosh</th>\n",
       "      <td>0.060855</td>\n",
       "      <td>1.000000</td>\n",
       "      <td>0.035069</td>\n",
       "      <td>-0.008453</td>\n",
       "      <td>-0.048426</td>\n",
       "      <td>-0.034645</td>\n",
       "      <td>0.120250</td>\n",
       "    </tr>\n",
       "    <tr>\n",
       "      <th>ExportConcentration</th>\n",
       "      <td>0.041785</td>\n",
       "      <td>0.035069</td>\n",
       "      <td>1.000000</td>\n",
       "      <td>-0.001165</td>\n",
       "      <td>-0.081032</td>\n",
       "      <td>-0.092971</td>\n",
       "      <td>-0.051491</td>\n",
       "    </tr>\n",
       "    <tr>\n",
       "      <th>AREAERcapitalcontrolsindex</th>\n",
       "      <td>0.047550</td>\n",
       "      <td>-0.008453</td>\n",
       "      <td>-0.001165</td>\n",
       "      <td>1.000000</td>\n",
       "      <td>-0.002491</td>\n",
       "      <td>0.009624</td>\n",
       "      <td>-0.045831</td>\n",
       "    </tr>\n",
       "    <tr>\n",
       "      <th>Landarea</th>\n",
       "      <td>-0.185509</td>\n",
       "      <td>-0.048426</td>\n",
       "      <td>-0.081032</td>\n",
       "      <td>-0.002491</td>\n",
       "      <td>1.000000</td>\n",
       "      <td>0.426547</td>\n",
       "      <td>0.027013</td>\n",
       "    </tr>\n",
       "    <tr>\n",
       "      <th>Population</th>\n",
       "      <td>-0.105607</td>\n",
       "      <td>-0.034645</td>\n",
       "      <td>-0.092971</td>\n",
       "      <td>0.009624</td>\n",
       "      <td>0.426547</td>\n",
       "      <td>1.000000</td>\n",
       "      <td>-0.062737</td>\n",
       "    </tr>\n",
       "    <tr>\n",
       "      <th>IQ</th>\n",
       "      <td>-0.044149</td>\n",
       "      <td>0.120250</td>\n",
       "      <td>-0.051491</td>\n",
       "      <td>-0.045831</td>\n",
       "      <td>0.027013</td>\n",
       "      <td>-0.062737</td>\n",
       "      <td>1.000000</td>\n",
       "    </tr>\n",
       "  </tbody>\n",
       "</table>\n",
       "</div>"
      ],
      "text/plain": [
       "                             Regime1  TradeOpenness_Ghosh  \\\n",
       "Regime1                     1.000000             0.060855   \n",
       "TradeOpenness_Ghosh         0.060855             1.000000   \n",
       "ExportConcentration         0.041785             0.035069   \n",
       "AREAERcapitalcontrolsindex  0.047550            -0.008453   \n",
       "Landarea                   -0.185509            -0.048426   \n",
       "Population                 -0.105607            -0.034645   \n",
       "IQ                         -0.044149             0.120250   \n",
       "\n",
       "                            ExportConcentration  AREAERcapitalcontrolsindex  \\\n",
       "Regime1                                0.041785                    0.047550   \n",
       "TradeOpenness_Ghosh                    0.035069                   -0.008453   \n",
       "ExportConcentration                    1.000000                   -0.001165   \n",
       "AREAERcapitalcontrolsindex            -0.001165                    1.000000   \n",
       "Landarea                              -0.081032                   -0.002491   \n",
       "Population                            -0.092971                    0.009624   \n",
       "IQ                                    -0.051491                   -0.045831   \n",
       "\n",
       "                            Landarea   Population        IQ  \n",
       "Regime1                     -0.185509   -0.105607 -0.044149  \n",
       "TradeOpenness_Ghosh         -0.048426   -0.034645  0.120250  \n",
       "ExportConcentration         -0.081032   -0.092971 -0.051491  \n",
       "AREAERcapitalcontrolsindex  -0.002491    0.009624 -0.045831  \n",
       "Landarea                     1.000000    0.426547  0.027013  \n",
       "Population                   0.426547    1.000000 -0.062737  \n",
       "IQ                           0.027013   -0.062737  1.000000  "
      ]
     },
     "execution_count": 8,
     "metadata": {},
     "output_type": "execute_result"
    }
   ],
   "source": [
    "data.corr(method='pearson', min_periods=1)"
   ]
  },
  {
   "cell_type": "markdown",
   "metadata": {},
   "source": [
    "## Next we will create a numpy array of the features and label."
   ]
  },
  {
   "cell_type": "code",
   "execution_count": 9,
   "metadata": {},
   "outputs": [],
   "source": [
    "Features = np.array(data[['TradeOpenness_Ghosh', 'ExportConcentration', 'AREAERcapitalcontrolsindex', 'Landarea ', 'Population', 'IQ']])\n",
    "Labels =  np.array(data[['Regime1']])    "
   ]
  },
  {
   "cell_type": "markdown",
   "metadata": {},
   "source": [
    "## Now we will partition the dataset into training and test datasets"
   ]
  },
  {
   "cell_type": "code",
   "execution_count": 10,
   "metadata": {},
   "outputs": [],
   "source": [
    "# Split the dataset into test and training set\n",
    "nr.seed(1115)\n",
    "indx = range(Features.shape[0])\n",
    "indx = ms.train_test_split(indx, test_size = 1425)\n",
    "X_train = Features[indx[0],:]\n",
    "y_train = np.ravel(Labels[indx[0]])\n",
    "X_test = Features[indx[1],:]\n",
    "y_test = np.ravel(Labels[indx[1]])"
   ]
  },
  {
   "cell_type": "markdown",
   "metadata": {},
   "source": [
    "## Numeric features are scaled or standardized.\n",
    "## A Zscore scale object is defined using the StandarScaler function from the Scikit Learn preprocessing package. Here each feature is subtracted from its mean and then divided by the standard deviation.\n",
    "## The scaler is fit to the training features. Subsequently, this scaler is used to apply the same scaling to the test data and in production.\n",
    "## The training features are scaled using the transform method."
   ]
  },
  {
   "cell_type": "code",
   "execution_count": 11,
   "metadata": {},
   "outputs": [],
   "source": [
    "scale = preprocessing.StandardScaler()\n",
    "scale.fit(X_train)\n",
    "X_train = scale.transform(X_train)"
   ]
  },
  {
   "cell_type": "markdown",
   "metadata": {},
   "source": [
    "## Define and fit a random forest model with 5 trees."
   ]
  },
  {
   "cell_type": "code",
   "execution_count": 12,
   "metadata": {},
   "outputs": [
    {
     "data": {
      "text/plain": [
       "RandomForestClassifier(bootstrap=True, class_weight=None, criterion='gini',\n",
       "            max_depth=None, max_features='auto', max_leaf_nodes=None,\n",
       "            min_impurity_decrease=0.0, min_impurity_split=None,\n",
       "            min_samples_leaf=1, min_samples_split=2,\n",
       "            min_weight_fraction_leaf=0.0, n_estimators=5, n_jobs=None,\n",
       "            oob_score=False, random_state=None, verbose=0,\n",
       "            warm_start=False)"
      ]
     },
     "execution_count": 12,
     "metadata": {},
     "output_type": "execute_result"
    }
   ],
   "source": [
    "nr.seed(444)\n",
    "rf_clf = RandomForestClassifier(n_estimators=5)\n",
    "rf_clf.fit(X_train, y_train)"
   ]
  },
  {
   "cell_type": "markdown",
   "metadata": {},
   "source": [
    "## Next we score the test data subset\n",
    "## The test features are scaled using the scaler computed for the training features. \n",
    "## The predict method is then used to compute the scores from the scaled features. "
   ]
  },
  {
   "cell_type": "code",
   "execution_count": 13,
   "metadata": {},
   "outputs": [],
   "source": [
    "X_test = scale.transform(X_test)\n",
    "scores = rf_clf.predict(X_test)"
   ]
  },
  {
   "cell_type": "markdown",
   "metadata": {},
   "source": [
    "## Evaluating the model results"
   ]
  },
  {
   "cell_type": "code",
   "execution_count": 15,
   "metadata": {},
   "outputs": [
    {
     "name": "stdout",
     "output_type": "stream",
     "text": [
      "                 Confusion matrix\n",
      "                 Score Flexible   Score Intermediate    Score Fixed\n",
      "Actual Flexible         507               86                73\n",
      "Actual Intermediate      60               93                57\n",
      "Actual Fixed             83               63               403\n",
      "\n",
      "Accuracy        0.70\n",
      " \n",
      "          Flexible  Intermediate  Fixed\n",
      "Num case   666.00     210.00      549.00\n",
      "Precision   0.78      0.38       0.76\n",
      "Recall      0.76      0.44       0.73\n",
      "F1          0.77      0.41       0.74\n"
     ]
    }
   ],
   "source": [
    "# Evaluating the model results\n",
    "\n",
    "def print_metrics_3(labels, scores):\n",
    "   \n",
    "    conf = sklm.confusion_matrix(labels, scores)\n",
    "    print('                 Confusion matrix')\n",
    "    print('                 Score Flexible   Score Intermediate    Score Fixed')\n",
    "    print('Actual Flexible      %6d' % conf[0,0] + '            %5d' % conf[0,1] + '             %5d' % conf[0,2])\n",
    "    print('Actual Intermediate  %6d' % conf[1,0] + '            %5d' % conf[1,1] + '             %5d' % conf[1,2])\n",
    "    print('Actual Fixed         %6d' % conf[2,0] + '            %5d' % conf[2,1] + '             %5d' % conf[2,2])\n",
    "    ## Now compute and display the accuracy and metrics\n",
    "    print('')\n",
    "    print('Accuracy        %0.2f' % sklm.accuracy_score(labels, scores))\n",
    "    metrics = sklm.precision_recall_fscore_support(labels, scores)\n",
    "    print(' ')\n",
    "    print('          Flexible  Intermediate  Fixed')\n",
    "    print('Num case   %0.2f' % metrics[3][0] + '     %0.2f' % metrics[3][1] + '      %0.2f' % metrics[3][2])\n",
    "    print('Precision   %0.2f' % metrics[0][0] + '      %0.2f' % metrics[0][1] + '       %0.2f' % metrics[0][2])\n",
    "    print('Recall      %0.2f' % metrics[1][0] + '      %0.2f' % metrics[1][1] + '       %0.2f' % metrics[1][2])\n",
    "    print('F1          %0.2f' % metrics[2][0] + '      %0.2f' % metrics[2][1] + '       %0.2f' % metrics[2][2])\n",
    "    \n",
    "print_metrics_3(y_test, scores)"
   ]
  },
  {
   "cell_type": "code",
   "execution_count": 19,
   "metadata": {},
   "outputs": [
    {
     "data": {
      "image/png": "[encoded data removed]",
      "text/plain": [
       "<Figure size 864x864 with 4 Axes>"
      ]
     },
     "metadata": {
      "needs_background": "light"
     },
     "output_type": "display_data"
    }
   ],
   "source": [
    "# Displays a set of plots showing correctly (as '+') and incorrectly (as 'o') cases\n",
    "\n",
    "def plot_data_score(data, y_test, scores):\n",
    "    '''Function to plot data data by type'''\n",
    "    ## Find correctly and incorrectly classified cases\n",
    "    true = np.equal(scores, y_test).astype(int)\n",
    "    \n",
    "    ## Create data frame from the test data\n",
    "    data = pd.DataFrame(data)\n",
    "    levels = {0:'Flexible', 1:'Intermediate', 2:'Fixed'}\n",
    "    data['Regime1'] = [levels[x] for x in y_test]\n",
    "    data.columns = ['TradeOpenness_Ghosh', 'ExportConcentration', 'AREAERcapitalcontrolsindex', 'Landarea', 'Population', 'IQ', 'Regime1']\n",
    "    \n",
    "    ## Set up for the plot\n",
    "    fig, ax = plt.subplots(2, 2, figsize=(12,12))\n",
    "    markers = ['o', '+']\n",
    "    x_ax = ['TradeOpenness_Ghosh', 'ExportConcentration']\n",
    "    y_ax = ['Landarea', 'Population']\n",
    "    \n",
    "    for t in range(2): # loop over correct and incorect classifications\n",
    "        Flexible = data[(data['Regime1'] == 'Flexible') & (true == t)]\n",
    "        Intermediate = data[(data['Regime1'] == 'Intermediate') & (true == t)]\n",
    "        Fixed = data[(data['Regime1'] == 'Fixed ') & (true == t)]\n",
    "        # loop over all the dimensions\n",
    "        for i in range(2):\n",
    "            for j in range(2):\n",
    "                ax[i,j].scatter(Flexible[x_ax[i]], Flexible[y_ax[j]], marker = markers[t], color = 'blue')\n",
    "                ax[i,j].scatter(Intermediate[x_ax[i]], Intermediate[y_ax[j]], marker = markers[t], color = 'orange')\n",
    "                ax[i,j].scatter(Fixed[x_ax[i]], Fixed[y_ax[j]], marker = markers[t], color = 'green')\n",
    "                ax[i,j].set_xlabel(x_ax[i])\n",
    "                ax[i,j].set_ylabel(y_ax[j])\n",
    "\n",
    "plot_data_score(X_test, y_test, scores)"
   ]
  },
  {
   "cell_type": "markdown",
   "metadata": {},
   "source": [
    "## Next we estimate a Random forest model with 40 trees. "
   ]
  },
  {
   "cell_type": "code",
   "execution_count": 20,
   "metadata": {},
   "outputs": [
    {
     "name": "stdout",
     "output_type": "stream",
     "text": [
      "                 Confusion matrix\n",
      "                 Score Flexible   Score Intermediate    Score Fixed\n",
      "Actual Flexible         492               76                98\n",
      "Actual Intermediate      56               94                60\n",
      "Actual Fixed             58               36               455\n",
      "\n",
      "Accuracy        0.73\n",
      " \n",
      "          Flexible  Intermediate  Fixed\n",
      "Num case   666.00     210.00      549.00\n",
      "Precision   0.81      0.46       0.74\n",
      "Recall      0.74      0.45       0.83\n",
      "F1          0.77      0.45       0.78\n"
     ]
    },
    {
     "data": {
      "image/png": "[encoded data removed]",
      "text/plain": [
       "<Figure size 864x864 with 4 Axes>"
      ]
     },
     "metadata": {
      "needs_background": "light"
     },
     "output_type": "display_data"
    }
   ],
   "source": [
    "nr.seed(444)\n",
    "rf_clf = RandomForestClassifier(n_estimators=40)\n",
    "rf_clf.fit(X_train, y_train)\n",
    "scores = rf_clf.predict(X_test)\n",
    "print_metrics_3(y_test, scores) \n",
    "plot_data_score(X_test, y_test, scores)"
   ]
  },
  {
   "cell_type": "code",
   "execution_count": 23,
   "metadata": {},
   "outputs": [],
   "source": [
    "## The Random Forest model with 40 treesgives slightly better results."
   ]
  },
  {
   "cell_type": "markdown",
   "metadata": {},
   "source": [
    "## Feature importance can be used as a feature selection method\n",
    "## Display a plot of the feature importance"
   ]
  },
  {
   "cell_type": "code",
   "execution_count": 22,
   "metadata": {},
   "outputs": [
    {
     "data": {
      "text/plain": [
       "Text(0, 0.5, 'Feature importance')"
      ]
     },
     "execution_count": 22,
     "metadata": {},
     "output_type": "execute_result"
    },
    {
     "data": {
      "image/png": "[encoded data removed]",
      "text/plain": [
       "<Figure size 432x288 with 1 Axes>"
      ]
     },
     "metadata": {
      "needs_background": "light"
     },
     "output_type": "display_data"
    }
   ],
   "source": [
    "importance = rf_clf.feature_importances_\n",
    "plt.bar(range(6), importance, tick_label = ['TradeOpenness_Ghosh', 'ExportConcentration', 'AREAERcapitalcontrolsindex', 'Landarea', 'Population', 'IQ'])\n",
    "plt.xticks(rotation=90)\n",
    "plt.ylabel('Feature importance')"
   ]
  },
  {
   "cell_type": "markdown",
   "metadata": {},
   "source": [
    "## Next we create a new model with a reduced feature set and compare the results.\n",
    "## As a first step, we create training and test datasets using the reduced features. "
   ]
  },
  {
   "cell_type": "code",
   "execution_count": 25,
   "metadata": {},
   "outputs": [],
   "source": [
    "## Create reduced feature set\n",
    "Features = np.array(data[['TradeOpenness_Ghosh', 'Landarea ', 'Population', 'IQ']])\n",
    "\n",
    "## Randomly sample cases to create independent training and test data\n",
    "nr.seed(1115)\n",
    "indx = range(Features.shape[0])\n",
    "indx = ms.train_test_split(indx, test_size = 1425)\n",
    "X_train = Features[indx[0],:]\n",
    "y_train = np.ravel(Labels[indx[0]])\n",
    "X_test = Features[indx[1],:]\n",
    "y_test = np.ravel(Labels[indx[1]])"
   ]
  },
  {
   "cell_type": "markdown",
   "metadata": {},
   "source": [
    "##  As a final setep we define the random forest model with 40 trees, fit the model, score the model and print the results.  "
   ]
  },
  {
   "cell_type": "code",
   "execution_count": 26,
   "metadata": {},
   "outputs": [
    {
     "name": "stdout",
     "output_type": "stream",
     "text": [
      "                 Confusion matrix\n",
      "                 Score Flexible   Score Intermediate    Score Fixed\n",
      "Actual Flexible         470               74               122\n",
      "Actual Intermediate      56               95                59\n",
      "Actual Fixed             73               30               446\n",
      "\n",
      "Accuracy        0.71\n",
      " \n",
      "          Flexible  Intermediate  Fixed\n",
      "Num case   666.00     210.00      549.00\n",
      "Precision   0.78      0.48       0.71\n",
      "Recall      0.71      0.45       0.81\n",
      "F1          0.74      0.46       0.76\n"
     ]
    }
   ],
   "source": [
    "nr.seed(444)\n",
    "rf_clf = RandomForestClassifier(n_estimators=40)\n",
    "rf_clf.fit(X_train, y_train)\n",
    "scores = rf_clf.predict(X_test)\n",
    "print_metrics_3(y_test, scores)"
   ]
  },
  {
   "cell_type": "markdown",
   "metadata": {},
   "source": [
    "## Reducing those two features does not improve model performance. So, those two features - trade openness and capital controls should be retained in the model."
   ]
  }
 ],
 "metadata": {
  "kernelspec": {
   "display_name": "Python 3",
   "language": "python",
   "name": "python3"
  },
  "language_info": {
   "codemirror_mode": {
    "name": "ipython",
    "version": 3
   },
   "file_extension": ".py",
   "mimetype": "text/x-python",
   "name": "python",
   "nbconvert_exporter": "python",
   "pygments_lexer": "ipython3",
   "version": "3.7.3"
  }
 },
 "nbformat": 4,
 "nbformat_minor": 2
}
